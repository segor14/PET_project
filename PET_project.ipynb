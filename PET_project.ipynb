{
 "cells": [
  {
   "cell_type": "markdown",
   "id": "c003240d",
   "metadata": {},
   "source": [
    "# 0. Подгружаем все необходимое"
   ]
  },
  {
   "cell_type": "code",
   "execution_count": 1,
   "id": "094d98b7",
   "metadata": {},
   "outputs": [],
   "source": [
    "import pandas as pd\n",
    "import numpy as np\n",
    "\n",
    "import seaborn as sns\n",
    "import matplotlib.pyplot as plt\n",
    "\n",
    "import re\n",
    "\n",
    "import warnings\n",
    "warnings.filterwarnings(\"ignore\")"
   ]
  },
  {
   "cell_type": "code",
   "execution_count": 2,
   "id": "8f09f3af",
   "metadata": {},
   "outputs": [
    {
     "data": {
      "text/html": [
       "<div>\n",
       "<style scoped>\n",
       "    .dataframe tbody tr th:only-of-type {\n",
       "        vertical-align: middle;\n",
       "    }\n",
       "\n",
       "    .dataframe tbody tr th {\n",
       "        vertical-align: top;\n",
       "    }\n",
       "\n",
       "    .dataframe thead th {\n",
       "        text-align: right;\n",
       "    }\n",
       "</style>\n",
       "<table border=\"1\" class=\"dataframe\">\n",
       "  <thead>\n",
       "    <tr style=\"text-align: right;\">\n",
       "      <th></th>\n",
       "      <th>title</th>\n",
       "      <th>creation_date</th>\n",
       "      <th>creation_date_earliest</th>\n",
       "      <th>creation_date_latest</th>\n",
       "      <th>medium</th>\n",
       "      <th>accession_number</th>\n",
       "      <th>id</th>\n",
       "      <th>credit_line</th>\n",
       "      <th>date_acquired</th>\n",
       "      <th>department</th>\n",
       "      <th>...</th>\n",
       "      <th>artist_id</th>\n",
       "      <th>party_type</th>\n",
       "      <th>full_name</th>\n",
       "      <th>cited_name</th>\n",
       "      <th>role</th>\n",
       "      <th>nationality</th>\n",
       "      <th>birth_date</th>\n",
       "      <th>death_date</th>\n",
       "      <th>birth_place</th>\n",
       "      <th>death_place</th>\n",
       "    </tr>\n",
       "  </thead>\n",
       "  <tbody>\n",
       "    <tr>\n",
       "      <th>0</th>\n",
       "      <td>Keith Haring</td>\n",
       "      <td>1984</td>\n",
       "      <td>1984-01-01</td>\n",
       "      <td>1984-01-01</td>\n",
       "      <td>gelatin silver print</td>\n",
       "      <td>2002.17</td>\n",
       "      <td>cmoa:things/692a68c5-af1e-4124-80f1-cbf38be51abe</td>\n",
       "      <td>Milton Fine Fund</td>\n",
       "      <td>2002-06-06</td>\n",
       "      <td>Contemporary Art</td>\n",
       "      <td>...</td>\n",
       "      <td>cmoa:parties/2cb30976-c292-4060-9dea-ba0e9504dda7</td>\n",
       "      <td>Person</td>\n",
       "      <td>Robert Mapplethorpe</td>\n",
       "      <td>Mapplethorpe, Robert</td>\n",
       "      <td>NaN</td>\n",
       "      <td>American</td>\n",
       "      <td>1947-01-01</td>\n",
       "      <td>1989-01-01</td>\n",
       "      <td>New York City (New York state, United States)</td>\n",
       "      <td>New York City (New York state, United States)</td>\n",
       "    </tr>\n",
       "    <tr>\n",
       "      <th>1</th>\n",
       "      <td>Untitled</td>\n",
       "      <td>1964-1965</td>\n",
       "      <td>1964-01-01</td>\n",
       "      <td>1965-01-01</td>\n",
       "      <td>oil on canvas</td>\n",
       "      <td>2002.19</td>\n",
       "      <td>cmoa:things/871505af-a072-4a84-ab09-3abf932951b8</td>\n",
       "      <td>Joseph Soffer Family Trust Fund</td>\n",
       "      <td>2002-06-06</td>\n",
       "      <td>Contemporary Art</td>\n",
       "      <td>...</td>\n",
       "      <td>cmoa:parties/b5cb7ad2-50ca-4c5b-8a80-74202ddfb9c2</td>\n",
       "      <td>Person</td>\n",
       "      <td>Jo Baer</td>\n",
       "      <td>Baer, Jo</td>\n",
       "      <td>NaN</td>\n",
       "      <td>American</td>\n",
       "      <td>1929-01-01</td>\n",
       "      <td>NaN</td>\n",
       "      <td>Seattle (King County, Washington, United States)</td>\n",
       "      <td>NaN</td>\n",
       "    </tr>\n",
       "    <tr>\n",
       "      <th>2</th>\n",
       "      <td>Trans East West (Tew) No. 5: The Attack of the...</td>\n",
       "      <td>1999</td>\n",
       "      <td>1999-01-01</td>\n",
       "      <td>1999-01-01</td>\n",
       "      <td>mixed media on paper</td>\n",
       "      <td>2002.18.1</td>\n",
       "      <td>cmoa:things/fe93f7e2-e4ca-455e-bdfa-ea9be22cce8a</td>\n",
       "      <td>Second Century Acquisition Fund</td>\n",
       "      <td>2002-06-06</td>\n",
       "      <td>Contemporary Art</td>\n",
       "      <td>...</td>\n",
       "      <td>cmoa:parties/4c7afe88-ebfe-4e3b-9010-9ddcb1e11674</td>\n",
       "      <td>Person</td>\n",
       "      <td>Franz Ackermann</td>\n",
       "      <td>Ackermann, Franz</td>\n",
       "      <td>NaN</td>\n",
       "      <td>German</td>\n",
       "      <td>1963-01-01</td>\n",
       "      <td>NaN</td>\n",
       "      <td>Neumarkt-Sankt Veit (Oberbayern, Bavaria, Germ...</td>\n",
       "      <td>NaN</td>\n",
       "    </tr>\n",
       "  </tbody>\n",
       "</table>\n",
       "<p>3 rows × 29 columns</p>\n",
       "</div>"
      ],
      "text/plain": [
       "                                               title creation_date  \\\n",
       "0                                       Keith Haring          1984   \n",
       "1                                           Untitled     1964-1965   \n",
       "2  Trans East West (Tew) No. 5: The Attack of the...          1999   \n",
       "\n",
       "  creation_date_earliest creation_date_latest                medium  \\\n",
       "0             1984-01-01           1984-01-01  gelatin silver print   \n",
       "1             1964-01-01           1965-01-01         oil on canvas   \n",
       "2             1999-01-01           1999-01-01  mixed media on paper   \n",
       "\n",
       "  accession_number                                                id  \\\n",
       "0          2002.17  cmoa:things/692a68c5-af1e-4124-80f1-cbf38be51abe   \n",
       "1          2002.19  cmoa:things/871505af-a072-4a84-ab09-3abf932951b8   \n",
       "2        2002.18.1  cmoa:things/fe93f7e2-e4ca-455e-bdfa-ea9be22cce8a   \n",
       "\n",
       "                       credit_line date_acquired        department  ...  \\\n",
       "0                 Milton Fine Fund    2002-06-06  Contemporary Art  ...   \n",
       "1  Joseph Soffer Family Trust Fund    2002-06-06  Contemporary Art  ...   \n",
       "2  Second Century Acquisition Fund    2002-06-06  Contemporary Art  ...   \n",
       "\n",
       "                                           artist_id  party_type  \\\n",
       "0  cmoa:parties/2cb30976-c292-4060-9dea-ba0e9504dda7      Person   \n",
       "1  cmoa:parties/b5cb7ad2-50ca-4c5b-8a80-74202ddfb9c2      Person   \n",
       "2  cmoa:parties/4c7afe88-ebfe-4e3b-9010-9ddcb1e11674      Person   \n",
       "\n",
       "             full_name            cited_name  role nationality  birth_date  \\\n",
       "0  Robert Mapplethorpe  Mapplethorpe, Robert   NaN    American  1947-01-01   \n",
       "1              Jo Baer              Baer, Jo   NaN    American  1929-01-01   \n",
       "2      Franz Ackermann      Ackermann, Franz   NaN      German  1963-01-01   \n",
       "\n",
       "   death_date                                        birth_place  \\\n",
       "0  1989-01-01      New York City (New York state, United States)   \n",
       "1         NaN   Seattle (King County, Washington, United States)   \n",
       "2         NaN  Neumarkt-Sankt Veit (Oberbayern, Bavaria, Germ...   \n",
       "\n",
       "                                     death_place  \n",
       "0  New York City (New York state, United States)  \n",
       "1                                            NaN  \n",
       "2                                            NaN  \n",
       "\n",
       "[3 rows x 29 columns]"
      ]
     },
     "execution_count": 2,
     "metadata": {},
     "output_type": "execute_result"
    }
   ],
   "source": [
    "df_all = pd.read_csv('cmoa.csv')\n",
    "\n",
    "df_all.head(3)"
   ]
  },
  {
   "cell_type": "markdown",
   "id": "dd4491c2",
   "metadata": {},
   "source": [
    "# 1. Предобрабатываем данные"
   ]
  },
  {
   "cell_type": "markdown",
   "id": "3181ac35",
   "metadata": {},
   "source": [
    "## Делаем более удобную таблицу"
   ]
  },
  {
   "cell_type": "code",
   "execution_count": 3,
   "id": "19f09d87",
   "metadata": {},
   "outputs": [
    {
     "data": {
      "text/plain": [
       "Index(['title', 'creation_date', 'creation_date_earliest',\n",
       "       'creation_date_latest', 'medium', 'accession_number', 'id',\n",
       "       'credit_line', 'date_acquired', 'department', 'physical_location',\n",
       "       'item_width', 'item_height', 'item_depth', 'item_diameter', 'web_url',\n",
       "       'provenance_text', 'classification', 'image_url', 'artist_id',\n",
       "       'party_type', 'full_name', 'cited_name', 'role', 'nationality',\n",
       "       'birth_date', 'death_date', 'birth_place', 'death_place'],\n",
       "      dtype='object')"
      ]
     },
     "execution_count": 3,
     "metadata": {},
     "output_type": "execute_result"
    }
   ],
   "source": [
    "df_all.columns"
   ]
  },
  {
   "cell_type": "markdown",
   "id": "e5bf3e2c",
   "metadata": {},
   "source": [
    "Так как датасет содержит очень много странных и ненужных данных, я сделал срез по необходимым стобцам:\n",
    "- title _(The main title that identifies the object or artwork. No multiples)_;\n",
    "- birth_date _(The death date of the artist/creator. Precision may vary based on how much is known about the artist)_;\n",
    "- nationality _(The nationality of the artist/creator)_;\n",
    "- classification _(The name of a group to which the work belongs within the museum's classification scheme, based on similar characteristics)_;\n",
    "- creation_date _(The human readable date of creation for the object)_;\n",
    "- date_acquired _(The date the object became the legal property of the museum)_;\n",
    "- medium _(Material of which this is this object/artwork is made)_;\n",
    "- item_width _(The maximum width of the artwork/object in inches)_;\n",
    "- item_height _(The maximum height of the artwork/object in inches)_;\n",
    "- item_depth _(The maximum depth of the artwork/object in inches)_\n",
    "\n",
    "__P.S.__ вручную проверил ссылки, они оказались нерабочими"
   ]
  },
  {
   "cell_type": "code",
   "execution_count": 4,
   "id": "590d0b90",
   "metadata": {},
   "outputs": [],
   "source": [
    "col =['title', 'classification', 'date_acquired', 'creation_date', 'medium', 'item_width', \n",
    "      'item_height', 'item_depth', 'birth_date', 'nationality']"
   ]
  },
  {
   "cell_type": "code",
   "execution_count": 5,
   "id": "653023a9",
   "metadata": {},
   "outputs": [
    {
     "data": {
      "text/html": [
       "<div>\n",
       "<style scoped>\n",
       "    .dataframe tbody tr th:only-of-type {\n",
       "        vertical-align: middle;\n",
       "    }\n",
       "\n",
       "    .dataframe tbody tr th {\n",
       "        vertical-align: top;\n",
       "    }\n",
       "\n",
       "    .dataframe thead th {\n",
       "        text-align: right;\n",
       "    }\n",
       "</style>\n",
       "<table border=\"1\" class=\"dataframe\">\n",
       "  <thead>\n",
       "    <tr style=\"text-align: right;\">\n",
       "      <th></th>\n",
       "      <th>title</th>\n",
       "      <th>classification</th>\n",
       "      <th>date_acquired</th>\n",
       "      <th>creation_date</th>\n",
       "      <th>medium</th>\n",
       "      <th>item_width</th>\n",
       "      <th>item_height</th>\n",
       "      <th>item_depth</th>\n",
       "      <th>birth_date</th>\n",
       "      <th>nationality</th>\n",
       "    </tr>\n",
       "  </thead>\n",
       "  <tbody>\n",
       "    <tr>\n",
       "      <th>0</th>\n",
       "      <td>Keith Haring</td>\n",
       "      <td>photographs</td>\n",
       "      <td>2002-06-06</td>\n",
       "      <td>1984</td>\n",
       "      <td>gelatin silver print</td>\n",
       "      <td>23.25</td>\n",
       "      <td>29.250</td>\n",
       "      <td>1.25</td>\n",
       "      <td>1947-01-01</td>\n",
       "      <td>American</td>\n",
       "    </tr>\n",
       "    <tr>\n",
       "      <th>1</th>\n",
       "      <td>Untitled</td>\n",
       "      <td>paintings</td>\n",
       "      <td>2002-06-06</td>\n",
       "      <td>1964-1965</td>\n",
       "      <td>oil on canvas</td>\n",
       "      <td>60.50</td>\n",
       "      <td>48.250</td>\n",
       "      <td>2.25</td>\n",
       "      <td>1929-01-01</td>\n",
       "      <td>American</td>\n",
       "    </tr>\n",
       "    <tr>\n",
       "      <th>2</th>\n",
       "      <td>Trans East West (Tew) No. 5: The Attack of the...</td>\n",
       "      <td>drawings and watercolors</td>\n",
       "      <td>2002-06-06</td>\n",
       "      <td>1999</td>\n",
       "      <td>mixed media on paper</td>\n",
       "      <td>7.50</td>\n",
       "      <td>5.125</td>\n",
       "      <td>0.00</td>\n",
       "      <td>1963-01-01</td>\n",
       "      <td>German</td>\n",
       "    </tr>\n",
       "  </tbody>\n",
       "</table>\n",
       "</div>"
      ],
      "text/plain": [
       "                                               title  \\\n",
       "0                                       Keith Haring   \n",
       "1                                           Untitled   \n",
       "2  Trans East West (Tew) No. 5: The Attack of the...   \n",
       "\n",
       "             classification date_acquired creation_date                medium  \\\n",
       "0               photographs    2002-06-06          1984  gelatin silver print   \n",
       "1                 paintings    2002-06-06     1964-1965         oil on canvas   \n",
       "2  drawings and watercolors    2002-06-06          1999  mixed media on paper   \n",
       "\n",
       "   item_width  item_height  item_depth  birth_date nationality  \n",
       "0       23.25       29.250        1.25  1947-01-01    American  \n",
       "1       60.50       48.250        2.25  1929-01-01    American  \n",
       "2        7.50        5.125        0.00  1963-01-01      German  "
      ]
     },
     "execution_count": 5,
     "metadata": {},
     "output_type": "execute_result"
    }
   ],
   "source": [
    "df = df_all[col]\n",
    "\n",
    "df.head(3)"
   ]
  },
  {
   "cell_type": "markdown",
   "id": "161fccce",
   "metadata": {},
   "source": [
    "## Смотрим свойства таблицы"
   ]
  },
  {
   "cell_type": "code",
   "execution_count": 6,
   "id": "bdd1d9b1",
   "metadata": {},
   "outputs": [
    {
     "name": "stdout",
     "output_type": "stream",
     "text": [
      "<class 'pandas.core.frame.DataFrame'>\n",
      "RangeIndex: 28269 entries, 0 to 28268\n",
      "Data columns (total 10 columns):\n",
      " #   Column          Non-Null Count  Dtype  \n",
      "---  ------          --------------  -----  \n",
      " 0   title           28154 non-null  object \n",
      " 1   classification  28267 non-null  object \n",
      " 2   date_acquired   27852 non-null  object \n",
      " 3   creation_date   26683 non-null  object \n",
      " 4   medium          28131 non-null  object \n",
      " 5   item_width      28269 non-null  float64\n",
      " 6   item_height     28269 non-null  float64\n",
      " 7   item_depth      28269 non-null  float64\n",
      " 8   birth_date      22696 non-null  object \n",
      " 9   nationality     28227 non-null  object \n",
      "dtypes: float64(3), object(7)\n",
      "memory usage: 2.2+ MB\n"
     ]
    }
   ],
   "source": [
    "df.info()"
   ]
  },
  {
   "cell_type": "code",
   "execution_count": 7,
   "id": "08a4d152",
   "metadata": {},
   "outputs": [
    {
     "data": {
      "text/html": [
       "<div>\n",
       "<style scoped>\n",
       "    .dataframe tbody tr th:only-of-type {\n",
       "        vertical-align: middle;\n",
       "    }\n",
       "\n",
       "    .dataframe tbody tr th {\n",
       "        vertical-align: top;\n",
       "    }\n",
       "\n",
       "    .dataframe thead th {\n",
       "        text-align: right;\n",
       "    }\n",
       "</style>\n",
       "<table border=\"1\" class=\"dataframe\">\n",
       "  <thead>\n",
       "    <tr style=\"text-align: right;\">\n",
       "      <th></th>\n",
       "      <th>item_width</th>\n",
       "      <th>item_height</th>\n",
       "      <th>item_depth</th>\n",
       "    </tr>\n",
       "  </thead>\n",
       "  <tbody>\n",
       "    <tr>\n",
       "      <th>count</th>\n",
       "      <td>28269.000000</td>\n",
       "      <td>28269.000000</td>\n",
       "      <td>28269.000000</td>\n",
       "    </tr>\n",
       "    <tr>\n",
       "      <th>mean</th>\n",
       "      <td>16.469858</td>\n",
       "      <td>16.580439</td>\n",
       "      <td>1.471958</td>\n",
       "    </tr>\n",
       "    <tr>\n",
       "      <th>std</th>\n",
       "      <td>21.146298</td>\n",
       "      <td>59.342263</td>\n",
       "      <td>6.405482</td>\n",
       "    </tr>\n",
       "    <tr>\n",
       "      <th>min</th>\n",
       "      <td>0.000000</td>\n",
       "      <td>0.000000</td>\n",
       "      <td>0.000000</td>\n",
       "    </tr>\n",
       "    <tr>\n",
       "      <th>25%</th>\n",
       "      <td>6.812000</td>\n",
       "      <td>7.250000</td>\n",
       "      <td>0.000000</td>\n",
       "    </tr>\n",
       "    <tr>\n",
       "      <th>50%</th>\n",
       "      <td>13.438000</td>\n",
       "      <td>13.500000</td>\n",
       "      <td>0.000000</td>\n",
       "    </tr>\n",
       "    <tr>\n",
       "      <th>75%</th>\n",
       "      <td>21.250000</td>\n",
       "      <td>21.000000</td>\n",
       "      <td>0.375000</td>\n",
       "    </tr>\n",
       "    <tr>\n",
       "      <th>max</th>\n",
       "      <td>1296.000000</td>\n",
       "      <td>9600.000000</td>\n",
       "      <td>426.000000</td>\n",
       "    </tr>\n",
       "  </tbody>\n",
       "</table>\n",
       "</div>"
      ],
      "text/plain": [
       "         item_width   item_height    item_depth\n",
       "count  28269.000000  28269.000000  28269.000000\n",
       "mean      16.469858     16.580439      1.471958\n",
       "std       21.146298     59.342263      6.405482\n",
       "min        0.000000      0.000000      0.000000\n",
       "25%        6.812000      7.250000      0.000000\n",
       "50%       13.438000     13.500000      0.000000\n",
       "75%       21.250000     21.000000      0.375000\n",
       "max     1296.000000   9600.000000    426.000000"
      ]
     },
     "execution_count": 7,
     "metadata": {},
     "output_type": "execute_result"
    }
   ],
   "source": [
    "df.describe()"
   ]
  },
  {
   "cell_type": "markdown",
   "id": "56905060",
   "metadata": {},
   "source": [
    "## Преобразовываем числовые переменные"
   ]
  },
  {
   "cell_type": "markdown",
   "id": "3fc07c21",
   "metadata": {},
   "source": [
    "Как видим, пропусков, к счастью, нет. Колонки с датами __date_acquired__, __birth_date__ и __creation_date__ представлены в виде   object. Для даты создания может быть указан интервал, в котором произведение было создано, для удобства работы с этой колонкой будем использовать середину этого интервала"
   ]
  },
  {
   "cell_type": "code",
   "execution_count": 8,
   "id": "d7b75950",
   "metadata": {},
   "outputs": [],
   "source": [
    "#работаем с creation_date\n",
    "\n",
    "df['creation_date'].fillna('no date', inplace=True)\n",
    "\n",
    "first_date_l = []\n",
    "second_date_l = []\n",
    "\n",
    "for date in df['creation_date']:\n",
    "    clear_date = re.findall(r'\\d+', date)\n",
    "    \n",
    "    if len(clear_date) == 1:\n",
    "        if len(clear_date[0]) == 4:\n",
    "            first_date = int(clear_date[0])\n",
    "            second_date = int(clear_date[0])\n",
    "        else: \n",
    "            first_date = np.nan\n",
    "            second_date = np.nan\n",
    "    if len(clear_date) == 2:\n",
    "        if len(clear_date[0]) == 4 and len(clear_date[1]) == 4:\n",
    "            first_date = int(clear_date[0])\n",
    "            second_date = int(clear_date[1])\n",
    "        else: \n",
    "            first_date = np.nan\n",
    "            second_date = np.nan\n",
    "\n",
    "    first_date_l.append(first_date)\n",
    "    second_date_l.append(second_date)"
   ]
  },
  {
   "cell_type": "markdown",
   "id": "c8ec43c5",
   "metadata": {},
   "source": [
    "В процессе обработки этого столбца обнаружилось, что усреднение по очень большому размаху не совсем правильно, поэтому при различии границ интервала больше, чем на 70 я решил проставить np.nan"
   ]
  },
  {
   "cell_type": "code",
   "execution_count": 9,
   "id": "38119b1e",
   "metadata": {},
   "outputs": [],
   "source": [
    "df_date = df[['title', 'creation_date']]\n",
    "df_date['first_date'] = first_date_l\n",
    "df_date['second_date'] = second_date_l\n",
    "df_date['diff'] = df_date['second_date'] - df_date['first_date']"
   ]
  },
  {
   "cell_type": "code",
   "execution_count": 10,
   "id": "1dd1c431",
   "metadata": {},
   "outputs": [],
   "source": [
    "mask = df_date['diff'] > 50\n",
    "\n",
    "df_date.loc[mask, 'first_date'] = np.nan\n",
    "df_date.loc[mask, 'second_date'] = np.nan"
   ]
  },
  {
   "cell_type": "code",
   "execution_count": 11,
   "id": "34fd1b14",
   "metadata": {},
   "outputs": [],
   "source": [
    "df_date['date'] = round((df_date['second_date'] + df_date['first_date']) / 2)\n",
    "\n",
    "df['creation_date'] = df_date['date']"
   ]
  },
  {
   "cell_type": "markdown",
   "id": "012ab1f5",
   "metadata": {},
   "source": [
    "Посмотрим на другие крайние значения даты создания"
   ]
  },
  {
   "cell_type": "code",
   "execution_count": 12,
   "id": "0daee6e8",
   "metadata": {},
   "outputs": [
    {
     "data": {
      "text/plain": [
       "13295    3000.0\n",
       "13907    2500.0\n",
       "13995    2450.0\n",
       "12174    2250.0\n",
       "3983     2016.0\n",
       "          ...  \n",
       "27895       NaN\n",
       "27896       NaN\n",
       "27897       NaN\n",
       "28157       NaN\n",
       "28198       NaN\n",
       "Name: creation_date, Length: 28269, dtype: float64"
      ]
     },
     "execution_count": 12,
     "metadata": {},
     "output_type": "execute_result"
    }
   ],
   "source": [
    "df['creation_date'].sort_values(ascending=False)"
   ]
  },
  {
   "cell_type": "code",
   "execution_count": 13,
   "id": "cf60dc7a",
   "metadata": {},
   "outputs": [
    {
     "data": {
      "text/html": [
       "<div>\n",
       "<style scoped>\n",
       "    .dataframe tbody tr th:only-of-type {\n",
       "        vertical-align: middle;\n",
       "    }\n",
       "\n",
       "    .dataframe tbody tr th {\n",
       "        vertical-align: top;\n",
       "    }\n",
       "\n",
       "    .dataframe thead th {\n",
       "        text-align: right;\n",
       "    }\n",
       "</style>\n",
       "<table border=\"1\" class=\"dataframe\">\n",
       "  <thead>\n",
       "    <tr style=\"text-align: right;\">\n",
       "      <th></th>\n",
       "      <th>title</th>\n",
       "      <th>creation_date</th>\n",
       "      <th>first_date</th>\n",
       "      <th>second_date</th>\n",
       "      <th>diff</th>\n",
       "      <th>date</th>\n",
       "    </tr>\n",
       "  </thead>\n",
       "  <tbody>\n",
       "    <tr>\n",
       "      <th>13295</th>\n",
       "      <td>Pot</td>\n",
       "      <td>c. 3000 BCE</td>\n",
       "      <td>3000.0</td>\n",
       "      <td>3000.0</td>\n",
       "      <td>0.0</td>\n",
       "      <td>3000.0</td>\n",
       "    </tr>\n",
       "    <tr>\n",
       "      <th>13907</th>\n",
       "      <td>Vase</td>\n",
       "      <td>c. 3000 BCE-2000 BCE</td>\n",
       "      <td>3000.0</td>\n",
       "      <td>2000.0</td>\n",
       "      <td>-1000.0</td>\n",
       "      <td>2500.0</td>\n",
       "    </tr>\n",
       "    <tr>\n",
       "      <th>13995</th>\n",
       "      <td>Vessel, frying-pan</td>\n",
       "      <td>2700-2200 BCE</td>\n",
       "      <td>2700.0</td>\n",
       "      <td>2200.0</td>\n",
       "      <td>-500.0</td>\n",
       "      <td>2450.0</td>\n",
       "    </tr>\n",
       "    <tr>\n",
       "      <th>12174</th>\n",
       "      <td>Bust of a Woman</td>\n",
       "      <td>c. 2500 BCE-2000 BCE</td>\n",
       "      <td>2500.0</td>\n",
       "      <td>2000.0</td>\n",
       "      <td>-500.0</td>\n",
       "      <td>2250.0</td>\n",
       "    </tr>\n",
       "    <tr>\n",
       "      <th>3983</th>\n",
       "      <td>Presentation model, Parque España Library, Med...</td>\n",
       "      <td>2016</td>\n",
       "      <td>2016.0</td>\n",
       "      <td>2016.0</td>\n",
       "      <td>0.0</td>\n",
       "      <td>2016.0</td>\n",
       "    </tr>\n",
       "  </tbody>\n",
       "</table>\n",
       "</div>"
      ],
      "text/plain": [
       "                                                   title  \\\n",
       "13295                                                Pot   \n",
       "13907                                               Vase   \n",
       "13995                                 Vessel, frying-pan   \n",
       "12174                                    Bust of a Woman   \n",
       "3983   Presentation model, Parque España Library, Med...   \n",
       "\n",
       "              creation_date  first_date  second_date    diff    date  \n",
       "13295           c. 3000 BCE      3000.0       3000.0     0.0  3000.0  \n",
       "13907  c. 3000 BCE-2000 BCE      3000.0       2000.0 -1000.0  2500.0  \n",
       "13995         2700-2200 BCE      2700.0       2200.0  -500.0  2450.0  \n",
       "12174  c. 2500 BCE-2000 BCE      2500.0       2000.0  -500.0  2250.0  \n",
       "3983                   2016      2016.0       2016.0     0.0  2016.0  "
      ]
     },
     "execution_count": 13,
     "metadata": {},
     "output_type": "execute_result"
    }
   ],
   "source": [
    "mask = [13295, 13907, 13995, 12174, 3983]\n",
    "df_date.loc[mask]"
   ]
  },
  {
   "cell_type": "markdown",
   "id": "4478d5de",
   "metadata": {},
   "source": [
    "Видно, что некоторые даты не соответствуют действительности, так как 3000 год еще не наступил. Из таблицы становится ясно, что все дело в странном формате данных. Просто выбросим эти года"
   ]
  },
  {
   "cell_type": "code",
   "execution_count": 14,
   "id": "42e26d80",
   "metadata": {},
   "outputs": [],
   "source": [
    "df.loc[mask, 'creation_date'] = np.nan"
   ]
  },
  {
   "cell_type": "code",
   "execution_count": 15,
   "id": "ea7c9b24",
   "metadata": {},
   "outputs": [],
   "source": [
    "#работаем с birth_date\n",
    "\n",
    "correct = []\n",
    "df['birth_date'].fillna('0-', inplace=True)\n",
    "for date in df['birth_date']:\n",
    "    if date[0].isdigit():\n",
    "        date = date.split('-')[0]\n",
    "        correct.append(int(date))\n",
    "    else:\n",
    "        correct.append(np.nan)\n",
    "\n",
    "df['birth_date'] = correct\n",
    "df['birth_date'].replace(0, np.nan, inplace=True)"
   ]
  },
  {
   "cell_type": "markdown",
   "id": "ba9dc96e",
   "metadata": {},
   "source": [
    "Посмотрим крайние полученные значения"
   ]
  },
  {
   "cell_type": "code",
   "execution_count": 16,
   "id": "dfd01c9c",
   "metadata": {},
   "outputs": [
    {
     "data": {
      "text/plain": [
       "12176     699.0\n",
       "7853      700.0\n",
       "7851      700.0\n",
       "14552     800.0\n",
       "14553     800.0\n",
       "13862     800.0\n",
       "12792    1200.0\n",
       "12149    1200.0\n",
       "12134    1200.0\n",
       "21190    1222.0\n",
       "Name: birth_date, dtype: float64"
      ]
     },
     "execution_count": 16,
     "metadata": {},
     "output_type": "execute_result"
    }
   ],
   "source": [
    "df['birth_date'].sort_values()[:10]"
   ]
  },
  {
   "cell_type": "code",
   "execution_count": 17,
   "id": "5b4a7339",
   "metadata": {},
   "outputs": [
    {
     "data": {
      "text/plain": [
       "14169    2016.0\n",
       "3732     2006.0\n",
       "4306     2004.0\n",
       "4308     2004.0\n",
       "4309     2004.0\n",
       "4305     2004.0\n",
       "4304     2004.0\n",
       "4302     2004.0\n",
       "4310     2004.0\n",
       "4307     2004.0\n",
       "Name: birth_date, dtype: float64"
      ]
     },
     "execution_count": 17,
     "metadata": {},
     "output_type": "execute_result"
    }
   ],
   "source": [
    "df['birth_date'].sort_values(ascending = False)[:10]"
   ]
  },
  {
   "cell_type": "code",
   "execution_count": 18,
   "id": "dd4629c8",
   "metadata": {},
   "outputs": [
    {
     "data": {
      "text/html": [
       "<div>\n",
       "<style scoped>\n",
       "    .dataframe tbody tr th:only-of-type {\n",
       "        vertical-align: middle;\n",
       "    }\n",
       "\n",
       "    .dataframe tbody tr th {\n",
       "        vertical-align: top;\n",
       "    }\n",
       "\n",
       "    .dataframe thead th {\n",
       "        text-align: right;\n",
       "    }\n",
       "</style>\n",
       "<table border=\"1\" class=\"dataframe\">\n",
       "  <thead>\n",
       "    <tr style=\"text-align: right;\">\n",
       "      <th></th>\n",
       "      <th>title</th>\n",
       "      <th>creation_date</th>\n",
       "      <th>creation_date_earliest</th>\n",
       "      <th>creation_date_latest</th>\n",
       "      <th>medium</th>\n",
       "      <th>accession_number</th>\n",
       "      <th>id</th>\n",
       "      <th>credit_line</th>\n",
       "      <th>date_acquired</th>\n",
       "      <th>department</th>\n",
       "      <th>...</th>\n",
       "      <th>artist_id</th>\n",
       "      <th>party_type</th>\n",
       "      <th>full_name</th>\n",
       "      <th>cited_name</th>\n",
       "      <th>role</th>\n",
       "      <th>nationality</th>\n",
       "      <th>birth_date</th>\n",
       "      <th>death_date</th>\n",
       "      <th>birth_place</th>\n",
       "      <th>death_place</th>\n",
       "    </tr>\n",
       "  </thead>\n",
       "  <tbody>\n",
       "    <tr>\n",
       "      <th>12176</th>\n",
       "      <td>Pin</td>\n",
       "      <td>c. 699-500 BCE</td>\n",
       "      <td>-0704-01-09</td>\n",
       "      <td>-0495-01-06</td>\n",
       "      <td>bronze</td>\n",
       "      <td>70.28</td>\n",
       "      <td>cmoa:things/e01ced9f-5189-4794-b7fa-0ac825a596f9</td>\n",
       "      <td>Greta S. Heckett Fund</td>\n",
       "      <td>1970-05-07</td>\n",
       "      <td>Decorative Arts and Design</td>\n",
       "      <td>...</td>\n",
       "      <td>cmoa:parties/48705471-faae-43a9-9f5a-e9a2748d51ee</td>\n",
       "      <td>Person</td>\n",
       "      <td>unknown Persian, Achaemenid period</td>\n",
       "      <td>unknown Persian, Achaemenid period</td>\n",
       "      <td>NaN</td>\n",
       "      <td>Achaemenid</td>\n",
       "      <td>0699-01-01</td>\n",
       "      <td>0599-01-01</td>\n",
       "      <td>NaN</td>\n",
       "      <td>NaN</td>\n",
       "    </tr>\n",
       "    <tr>\n",
       "      <th>7853</th>\n",
       "      <td>Jar</td>\n",
       "      <td>618-906</td>\n",
       "      <td>0617-12-29</td>\n",
       "      <td>0905-12-27</td>\n",
       "      <td>Ceramic</td>\n",
       "      <td>25.1.18</td>\n",
       "      <td>cmoa:things/5dbd5bcc-6b04-4214-97bc-3a12ce3b15dd</td>\n",
       "      <td>Gift of Charles D. Armstrong</td>\n",
       "      <td>1925-01-01</td>\n",
       "      <td>Decorative Arts and Design</td>\n",
       "      <td>...</td>\n",
       "      <td>cmoa:parties/93e30e53-8172-4b7c-819c-8d9703f61565</td>\n",
       "      <td>Person</td>\n",
       "      <td>unknown Chinese, T'Ang dynasty</td>\n",
       "      <td>unknown Chinese, T'Ang dynasty</td>\n",
       "      <td>NaN</td>\n",
       "      <td>Chinese</td>\n",
       "      <td>0700-01-01</td>\n",
       "      <td>0750-01-01</td>\n",
       "      <td>NaN</td>\n",
       "      <td>NaN</td>\n",
       "    </tr>\n",
       "    <tr>\n",
       "      <th>7851</th>\n",
       "      <td>Jar</td>\n",
       "      <td>618-906</td>\n",
       "      <td>0617-12-29</td>\n",
       "      <td>0905-12-27</td>\n",
       "      <td>earthenware</td>\n",
       "      <td>25.1.17</td>\n",
       "      <td>cmoa:things/15744366-c9c5-4725-a396-37954ea49150</td>\n",
       "      <td>Gift of Charles D. Armstrong</td>\n",
       "      <td>1925-01-01</td>\n",
       "      <td>Decorative Arts and Design</td>\n",
       "      <td>...</td>\n",
       "      <td>cmoa:parties/93e30e53-8172-4b7c-819c-8d9703f61565</td>\n",
       "      <td>Person</td>\n",
       "      <td>unknown Chinese, T'Ang dynasty</td>\n",
       "      <td>unknown Chinese, T'Ang dynasty</td>\n",
       "      <td>NaN</td>\n",
       "      <td>Chinese</td>\n",
       "      <td>0700-01-01</td>\n",
       "      <td>0750-01-01</td>\n",
       "      <td>NaN</td>\n",
       "      <td>NaN</td>\n",
       "    </tr>\n",
       "    <tr>\n",
       "      <th>14552</th>\n",
       "      <td>Standard</td>\n",
       "      <td>c. 800 BCE</td>\n",
       "      <td>-0805-01-09</td>\n",
       "      <td>-0795-01-09</td>\n",
       "      <td>bronze with brown patina</td>\n",
       "      <td>77.41.1.A-B</td>\n",
       "      <td>cmoa:things/66228f0d-f386-44f2-baf2-852d0b04b003</td>\n",
       "      <td>Gift of Mr. and Mrs. Leon Anthony Arkus</td>\n",
       "      <td>1977-10-12</td>\n",
       "      <td>Decorative Arts and Design</td>\n",
       "      <td>...</td>\n",
       "      <td>cmoa:parties/30f24c18-af39-466b-aa0b-30234c2b8ee5</td>\n",
       "      <td>Person</td>\n",
       "      <td>unknown Iranian, Lorestan</td>\n",
       "      <td>unknown Iranian, Lorestan</td>\n",
       "      <td>NaN</td>\n",
       "      <td>Iranian</td>\n",
       "      <td>0800-01-01</td>\n",
       "      <td>NaN</td>\n",
       "      <td>NaN</td>\n",
       "      <td>NaN</td>\n",
       "    </tr>\n",
       "    <tr>\n",
       "      <th>14553</th>\n",
       "      <td>Standard</td>\n",
       "      <td>c. 800 BCE</td>\n",
       "      <td>-0850-01-09</td>\n",
       "      <td>-0750-01-09</td>\n",
       "      <td>bronze with brown patina</td>\n",
       "      <td>77.41.2.A-C</td>\n",
       "      <td>cmoa:things/abd98496-ac01-4915-b44f-12695de49267</td>\n",
       "      <td>Gift of Mr. and Mrs. Leon Anthony Arkus</td>\n",
       "      <td>1977-10-12</td>\n",
       "      <td>Decorative Arts and Design</td>\n",
       "      <td>...</td>\n",
       "      <td>cmoa:parties/30f24c18-af39-466b-aa0b-30234c2b8ee5</td>\n",
       "      <td>Person</td>\n",
       "      <td>unknown Iranian, Lorestan</td>\n",
       "      <td>unknown Iranian, Lorestan</td>\n",
       "      <td>NaN</td>\n",
       "      <td>Iranian</td>\n",
       "      <td>0800-01-01</td>\n",
       "      <td>NaN</td>\n",
       "      <td>NaN</td>\n",
       "      <td>NaN</td>\n",
       "    </tr>\n",
       "    <tr>\n",
       "      <th>13862</th>\n",
       "      <td>Standard</td>\n",
       "      <td>c. 800 BCE</td>\n",
       "      <td>-0805-01-09</td>\n",
       "      <td>-0795-01-09</td>\n",
       "      <td>luristan bronze</td>\n",
       "      <td>75.21.3.A-C</td>\n",
       "      <td>cmoa:things/da89f99f-a934-4351-9c10-e5cd2983bb45</td>\n",
       "      <td>Gift of Mr. and Mrs. Leon Anthony Arkus</td>\n",
       "      <td>1975-10-09</td>\n",
       "      <td>Decorative Arts and Design</td>\n",
       "      <td>...</td>\n",
       "      <td>cmoa:parties/30f24c18-af39-466b-aa0b-30234c2b8ee5</td>\n",
       "      <td>Person</td>\n",
       "      <td>unknown Iranian, Lorestan</td>\n",
       "      <td>unknown Iranian, Lorestan</td>\n",
       "      <td>NaN</td>\n",
       "      <td>Iranian</td>\n",
       "      <td>0800-01-01</td>\n",
       "      <td>NaN</td>\n",
       "      <td>NaN</td>\n",
       "      <td>NaN</td>\n",
       "    </tr>\n",
       "    <tr>\n",
       "      <th>12792</th>\n",
       "      <td>Covered Bowl</td>\n",
       "      <td>c. 1200-1499</td>\n",
       "      <td>1194-12-25</td>\n",
       "      <td>1503-12-22</td>\n",
       "      <td>ceramic with blue underglaze</td>\n",
       "      <td>70.55.2.A-B</td>\n",
       "      <td>cmoa:things/e0197cdb-337c-4742-aeef-4a91e26ed8af</td>\n",
       "      <td>Gift of Mrs. Fred C. Foy</td>\n",
       "      <td>1970-12-17</td>\n",
       "      <td>Decorative Arts and Design</td>\n",
       "      <td>...</td>\n",
       "      <td>cmoa:parties/ae9cbe86-7144-417a-a65c-254d4eda4fdf</td>\n",
       "      <td>Person</td>\n",
       "      <td>unknown Thai, Svargaloka</td>\n",
       "      <td>unknown Thai, Svargaloka</td>\n",
       "      <td>NaN</td>\n",
       "      <td>Thai</td>\n",
       "      <td>1200-01-01</td>\n",
       "      <td>1499-01-01</td>\n",
       "      <td>NaN</td>\n",
       "      <td>NaN</td>\n",
       "    </tr>\n",
       "    <tr>\n",
       "      <th>12149</th>\n",
       "      <td>Bowl</td>\n",
       "      <td>13th-15th century</td>\n",
       "      <td>1199-12-25</td>\n",
       "      <td>1498-12-23</td>\n",
       "      <td>glazed porcelain</td>\n",
       "      <td>70.1.1.A-B</td>\n",
       "      <td>cmoa:things/f9f2cc3a-047f-4a5f-88dd-2382a62edebe</td>\n",
       "      <td>Gift of Mrs. Fred C. Foy</td>\n",
       "      <td>1970-05-07</td>\n",
       "      <td>Decorative Arts and Design</td>\n",
       "      <td>...</td>\n",
       "      <td>cmoa:parties/ae9cbe86-7144-417a-a65c-254d4eda4fdf</td>\n",
       "      <td>Person</td>\n",
       "      <td>unknown Thai, Svargaloka</td>\n",
       "      <td>unknown Thai, Svargaloka</td>\n",
       "      <td>NaN</td>\n",
       "      <td>Thai</td>\n",
       "      <td>1200-01-01</td>\n",
       "      <td>1499-01-01</td>\n",
       "      <td>NaN</td>\n",
       "      <td>NaN</td>\n",
       "    </tr>\n",
       "    <tr>\n",
       "      <th>12134</th>\n",
       "      <td>Bowl</td>\n",
       "      <td>13th-15th century</td>\n",
       "      <td>1199-12-25</td>\n",
       "      <td>1498-12-23</td>\n",
       "      <td>Earthenware</td>\n",
       "      <td>69.5.1.A-B</td>\n",
       "      <td>cmoa:things/14aee16b-d006-4639-bbd8-9f2c451f47eb</td>\n",
       "      <td>Gift of Mrs. Fred C. Foy</td>\n",
       "      <td>1969-04-24</td>\n",
       "      <td>Decorative Arts and Design</td>\n",
       "      <td>...</td>\n",
       "      <td>cmoa:parties/ae9cbe86-7144-417a-a65c-254d4eda4fdf</td>\n",
       "      <td>Person</td>\n",
       "      <td>unknown Thai, Svargaloka</td>\n",
       "      <td>unknown Thai, Svargaloka</td>\n",
       "      <td>NaN</td>\n",
       "      <td>Thai</td>\n",
       "      <td>1200-01-01</td>\n",
       "      <td>1499-01-01</td>\n",
       "      <td>NaN</td>\n",
       "      <td>NaN</td>\n",
       "    </tr>\n",
       "    <tr>\n",
       "      <th>21190</th>\n",
       "      <td>Taishakuten (Buddhist)</td>\n",
       "      <td>NaN</td>\n",
       "      <td>1241-12-25</td>\n",
       "      <td>1281-12-25</td>\n",
       "      <td>woodblock print on paper (block from 13th cent...</td>\n",
       "      <td>89.28.1092</td>\n",
       "      <td>cmoa:things/a8690b43-ef92-4112-a6d4-957316d0b89d</td>\n",
       "      <td>Bequest of Dr. James B. Austin</td>\n",
       "      <td>1989-12-07</td>\n",
       "      <td>Fine Arts</td>\n",
       "      <td>...</td>\n",
       "      <td>cmoa:parties/7f8407c3-8633-46a3-8e23-26f9ae3d0a4f</td>\n",
       "      <td>Person</td>\n",
       "      <td>Nichiren</td>\n",
       "      <td>Nichiren</td>\n",
       "      <td>attributed to</td>\n",
       "      <td>Japanese</td>\n",
       "      <td>1222-01-01</td>\n",
       "      <td>1282-01-01</td>\n",
       "      <td>Japan</td>\n",
       "      <td>NaN</td>\n",
       "    </tr>\n",
       "  </tbody>\n",
       "</table>\n",
       "<p>10 rows × 29 columns</p>\n",
       "</div>"
      ],
      "text/plain": [
       "                        title      creation_date creation_date_earliest  \\\n",
       "12176                     Pin     c. 699-500 BCE            -0704-01-09   \n",
       "7853                      Jar            618-906             0617-12-29   \n",
       "7851                      Jar            618-906             0617-12-29   \n",
       "14552                Standard         c. 800 BCE            -0805-01-09   \n",
       "14553                Standard         c. 800 BCE            -0850-01-09   \n",
       "13862                Standard         c. 800 BCE            -0805-01-09   \n",
       "12792            Covered Bowl       c. 1200-1499             1194-12-25   \n",
       "12149                    Bowl  13th-15th century             1199-12-25   \n",
       "12134                    Bowl  13th-15th century             1199-12-25   \n",
       "21190  Taishakuten (Buddhist)                NaN             1241-12-25   \n",
       "\n",
       "      creation_date_latest                                             medium  \\\n",
       "12176          -0495-01-06                                             bronze   \n",
       "7853            0905-12-27                                            Ceramic   \n",
       "7851            0905-12-27                                        earthenware   \n",
       "14552          -0795-01-09                           bronze with brown patina   \n",
       "14553          -0750-01-09                           bronze with brown patina   \n",
       "13862          -0795-01-09                                    luristan bronze   \n",
       "12792           1503-12-22                       ceramic with blue underglaze   \n",
       "12149           1498-12-23                                   glazed porcelain   \n",
       "12134           1498-12-23                                        Earthenware   \n",
       "21190           1281-12-25  woodblock print on paper (block from 13th cent...   \n",
       "\n",
       "      accession_number                                                id  \\\n",
       "12176            70.28  cmoa:things/e01ced9f-5189-4794-b7fa-0ac825a596f9   \n",
       "7853           25.1.18  cmoa:things/5dbd5bcc-6b04-4214-97bc-3a12ce3b15dd   \n",
       "7851           25.1.17  cmoa:things/15744366-c9c5-4725-a396-37954ea49150   \n",
       "14552      77.41.1.A-B  cmoa:things/66228f0d-f386-44f2-baf2-852d0b04b003   \n",
       "14553      77.41.2.A-C  cmoa:things/abd98496-ac01-4915-b44f-12695de49267   \n",
       "13862      75.21.3.A-C  cmoa:things/da89f99f-a934-4351-9c10-e5cd2983bb45   \n",
       "12792      70.55.2.A-B  cmoa:things/e0197cdb-337c-4742-aeef-4a91e26ed8af   \n",
       "12149       70.1.1.A-B  cmoa:things/f9f2cc3a-047f-4a5f-88dd-2382a62edebe   \n",
       "12134       69.5.1.A-B  cmoa:things/14aee16b-d006-4639-bbd8-9f2c451f47eb   \n",
       "21190       89.28.1092  cmoa:things/a8690b43-ef92-4112-a6d4-957316d0b89d   \n",
       "\n",
       "                                   credit_line date_acquired  \\\n",
       "12176                    Greta S. Heckett Fund    1970-05-07   \n",
       "7853              Gift of Charles D. Armstrong    1925-01-01   \n",
       "7851              Gift of Charles D. Armstrong    1925-01-01   \n",
       "14552  Gift of Mr. and Mrs. Leon Anthony Arkus    1977-10-12   \n",
       "14553  Gift of Mr. and Mrs. Leon Anthony Arkus    1977-10-12   \n",
       "13862  Gift of Mr. and Mrs. Leon Anthony Arkus    1975-10-09   \n",
       "12792                 Gift of Mrs. Fred C. Foy    1970-12-17   \n",
       "12149                 Gift of Mrs. Fred C. Foy    1970-05-07   \n",
       "12134                 Gift of Mrs. Fred C. Foy    1969-04-24   \n",
       "21190           Bequest of Dr. James B. Austin    1989-12-07   \n",
       "\n",
       "                       department  ...  \\\n",
       "12176  Decorative Arts and Design  ...   \n",
       "7853   Decorative Arts and Design  ...   \n",
       "7851   Decorative Arts and Design  ...   \n",
       "14552  Decorative Arts and Design  ...   \n",
       "14553  Decorative Arts and Design  ...   \n",
       "13862  Decorative Arts and Design  ...   \n",
       "12792  Decorative Arts and Design  ...   \n",
       "12149  Decorative Arts and Design  ...   \n",
       "12134  Decorative Arts and Design  ...   \n",
       "21190                   Fine Arts  ...   \n",
       "\n",
       "                                               artist_id  party_type  \\\n",
       "12176  cmoa:parties/48705471-faae-43a9-9f5a-e9a2748d51ee      Person   \n",
       "7853   cmoa:parties/93e30e53-8172-4b7c-819c-8d9703f61565      Person   \n",
       "7851   cmoa:parties/93e30e53-8172-4b7c-819c-8d9703f61565      Person   \n",
       "14552  cmoa:parties/30f24c18-af39-466b-aa0b-30234c2b8ee5      Person   \n",
       "14553  cmoa:parties/30f24c18-af39-466b-aa0b-30234c2b8ee5      Person   \n",
       "13862  cmoa:parties/30f24c18-af39-466b-aa0b-30234c2b8ee5      Person   \n",
       "12792  cmoa:parties/ae9cbe86-7144-417a-a65c-254d4eda4fdf      Person   \n",
       "12149  cmoa:parties/ae9cbe86-7144-417a-a65c-254d4eda4fdf      Person   \n",
       "12134  cmoa:parties/ae9cbe86-7144-417a-a65c-254d4eda4fdf      Person   \n",
       "21190  cmoa:parties/7f8407c3-8633-46a3-8e23-26f9ae3d0a4f      Person   \n",
       "\n",
       "                                full_name                          cited_name  \\\n",
       "12176  unknown Persian, Achaemenid period  unknown Persian, Achaemenid period   \n",
       "7853       unknown Chinese, T'Ang dynasty      unknown Chinese, T'Ang dynasty   \n",
       "7851       unknown Chinese, T'Ang dynasty      unknown Chinese, T'Ang dynasty   \n",
       "14552           unknown Iranian, Lorestan           unknown Iranian, Lorestan   \n",
       "14553           unknown Iranian, Lorestan           unknown Iranian, Lorestan   \n",
       "13862           unknown Iranian, Lorestan           unknown Iranian, Lorestan   \n",
       "12792            unknown Thai, Svargaloka            unknown Thai, Svargaloka   \n",
       "12149            unknown Thai, Svargaloka            unknown Thai, Svargaloka   \n",
       "12134            unknown Thai, Svargaloka            unknown Thai, Svargaloka   \n",
       "21190                            Nichiren                            Nichiren   \n",
       "\n",
       "                role nationality  birth_date  death_date birth_place  \\\n",
       "12176            NaN  Achaemenid  0699-01-01  0599-01-01         NaN   \n",
       "7853             NaN     Chinese  0700-01-01  0750-01-01         NaN   \n",
       "7851             NaN     Chinese  0700-01-01  0750-01-01         NaN   \n",
       "14552            NaN     Iranian  0800-01-01         NaN         NaN   \n",
       "14553            NaN     Iranian  0800-01-01         NaN         NaN   \n",
       "13862            NaN     Iranian  0800-01-01         NaN         NaN   \n",
       "12792            NaN        Thai  1200-01-01  1499-01-01         NaN   \n",
       "12149            NaN        Thai  1200-01-01  1499-01-01         NaN   \n",
       "12134            NaN        Thai  1200-01-01  1499-01-01         NaN   \n",
       "21190  attributed to    Japanese  1222-01-01  1282-01-01       Japan   \n",
       "\n",
       "      death_place  \n",
       "12176         NaN  \n",
       "7853          NaN  \n",
       "7851          NaN  \n",
       "14552         NaN  \n",
       "14553         NaN  \n",
       "13862         NaN  \n",
       "12792         NaN  \n",
       "12149         NaN  \n",
       "12134         NaN  \n",
       "21190         NaN  \n",
       "\n",
       "[10 rows x 29 columns]"
      ]
     },
     "execution_count": 18,
     "metadata": {},
     "output_type": "execute_result"
    }
   ],
   "source": [
    "df_all.loc[[12176, 7853, 7851, 14552, 14553, 13862, 12792, 12149, 12134, 21190]]"
   ]
  },
  {
   "cell_type": "markdown",
   "id": "44650c9a",
   "metadata": {},
   "source": [
    "Как видно из первоначальной таблицы, объекты под индексами 12176, 7853, 7851, 14552, 14553, 13862 датированы очень странно, так как верно интерпретировать эти значения не получится, придется их просто удалить"
   ]
  },
  {
   "cell_type": "code",
   "execution_count": 19,
   "id": "8570f577",
   "metadata": {},
   "outputs": [],
   "source": [
    "index = [12176, 7853, 7851, 14552, 14553, 13862]"
   ]
  },
  {
   "cell_type": "code",
   "execution_count": 20,
   "id": "b27c8f15",
   "metadata": {},
   "outputs": [],
   "source": [
    "df.loc[index, 'birth_date'] = np.nan"
   ]
  },
  {
   "cell_type": "code",
   "execution_count": 21,
   "id": "f102d654",
   "metadata": {},
   "outputs": [],
   "source": [
    "#работаем с date_acquired\n",
    "correct = []\n",
    "df['date_acquired'].fillna('no', inplace=True)\n",
    "\n",
    "for date in df['date_acquired']:\n",
    "    if date != 'no':\n",
    "        date = int(date.split('-')[0])\n",
    "    else:\n",
    "        date = np.nan\n",
    "    correct.append(date)\n",
    "    \n",
    "df['date_acquired'] = correct"
   ]
  },
  {
   "cell_type": "markdown",
   "id": "74f61054",
   "metadata": {},
   "source": [
    "## Преобразовываем категориальные переменные"
   ]
  },
  {
   "cell_type": "code",
   "execution_count": 22,
   "id": "c347262d",
   "metadata": {},
   "outputs": [
    {
     "data": {
      "text/plain": [
       "array(['American', 'German', 'Chinese', 'Italian|Italian',\n",
       "       'British|Scottish', 'British', 'British|', 'British|British',\n",
       "       'French', 'English|English'], dtype=object)"
      ]
     },
     "execution_count": 22,
     "metadata": {},
     "output_type": "execute_result"
    }
   ],
   "source": [
    "df['nationality'].unique()[:10]"
   ]
  },
  {
   "cell_type": "markdown",
   "id": "16c4c9d3",
   "metadata": {},
   "source": [
    "Как видно, в столбце __nationality__ могут лежать по несколько национальностей через знак __|__. Обычно авторство указывается согласно количеству вклада автора в работу, поэтому автор на первом месте \"более важный\". По такому принципу и сделаем в обрабатываемой колонке"
   ]
  },
  {
   "cell_type": "code",
   "execution_count": 23,
   "id": "331feb51",
   "metadata": {},
   "outputs": [],
   "source": [
    "df['nationality'].fillna('0', inplace=True)\n",
    "\n",
    "correct = []\n",
    "\n",
    "for nat in df['nationality']:\n",
    "    if '|' in nat:\n",
    "        nat_l = nat.split('|')\n",
    "        nat = nat_l[0]\n",
    "    correct.append(nat)\n",
    "\n",
    "df['nationality'] = correct\n",
    "df['nationality'].replace('0', np.nan, inplace=True)"
   ]
  },
  {
   "cell_type": "code",
   "execution_count": 24,
   "id": "646ac5c2",
   "metadata": {},
   "outputs": [
    {
     "name": "stdout",
     "output_type": "stream",
     "text": [
      "5002\n"
     ]
    },
    {
     "data": {
      "text/plain": [
       "array(['gelatin silver print', 'oil on canvas', 'mixed media on paper',\n",
       "       'glass', 'plastic, lead, glass and rubber',\n",
       "       'plastic, lead, glass and rubber; set of five',\n",
       "       'rock crystal and gilded copper', 'silver and silver gilt',\n",
       "       'terracotta with underglaze decoration', 'salt-glazed stoneware'],\n",
       "      dtype=object)"
      ]
     },
     "execution_count": 24,
     "metadata": {},
     "output_type": "execute_result"
    }
   ],
   "source": [
    "print(len(df.medium.unique()))\n",
    "df['medium'].unique()[:10]"
   ]
  },
  {
   "cell_type": "markdown",
   "id": "4511b4d8",
   "metadata": {},
   "source": [
    "К сожалению, колонка __medium__ содержит очень много уникальных значений, которые не получиться как-то адекватно предобработать"
   ]
  },
  {
   "cell_type": "markdown",
   "id": "4e37fdae",
   "metadata": {},
   "source": [
    "Посмотрим что у нас получилось"
   ]
  },
  {
   "cell_type": "code",
   "execution_count": 25,
   "id": "072a6154",
   "metadata": {},
   "outputs": [
    {
     "data": {
      "text/html": [
       "<div>\n",
       "<style scoped>\n",
       "    .dataframe tbody tr th:only-of-type {\n",
       "        vertical-align: middle;\n",
       "    }\n",
       "\n",
       "    .dataframe tbody tr th {\n",
       "        vertical-align: top;\n",
       "    }\n",
       "\n",
       "    .dataframe thead th {\n",
       "        text-align: right;\n",
       "    }\n",
       "</style>\n",
       "<table border=\"1\" class=\"dataframe\">\n",
       "  <thead>\n",
       "    <tr style=\"text-align: right;\">\n",
       "      <th></th>\n",
       "      <th>title</th>\n",
       "      <th>classification</th>\n",
       "      <th>date_acquired</th>\n",
       "      <th>creation_date</th>\n",
       "      <th>medium</th>\n",
       "      <th>item_width</th>\n",
       "      <th>item_height</th>\n",
       "      <th>item_depth</th>\n",
       "      <th>birth_date</th>\n",
       "      <th>nationality</th>\n",
       "    </tr>\n",
       "  </thead>\n",
       "  <tbody>\n",
       "    <tr>\n",
       "      <th>0</th>\n",
       "      <td>Keith Haring</td>\n",
       "      <td>photographs</td>\n",
       "      <td>2002.0</td>\n",
       "      <td>1984.0</td>\n",
       "      <td>gelatin silver print</td>\n",
       "      <td>23.250</td>\n",
       "      <td>29.250</td>\n",
       "      <td>1.25</td>\n",
       "      <td>1947.0</td>\n",
       "      <td>American</td>\n",
       "    </tr>\n",
       "    <tr>\n",
       "      <th>1</th>\n",
       "      <td>Untitled</td>\n",
       "      <td>paintings</td>\n",
       "      <td>2002.0</td>\n",
       "      <td>1964.0</td>\n",
       "      <td>oil on canvas</td>\n",
       "      <td>60.500</td>\n",
       "      <td>48.250</td>\n",
       "      <td>2.25</td>\n",
       "      <td>1929.0</td>\n",
       "      <td>American</td>\n",
       "    </tr>\n",
       "    <tr>\n",
       "      <th>2</th>\n",
       "      <td>Trans East West (Tew) No. 5: The Attack of the...</td>\n",
       "      <td>drawings and watercolors</td>\n",
       "      <td>2002.0</td>\n",
       "      <td>1999.0</td>\n",
       "      <td>mixed media on paper</td>\n",
       "      <td>7.500</td>\n",
       "      <td>5.125</td>\n",
       "      <td>0.00</td>\n",
       "      <td>1963.0</td>\n",
       "      <td>German</td>\n",
       "    </tr>\n",
       "    <tr>\n",
       "      <th>3</th>\n",
       "      <td>Trans East West (Tew) No. 6: Rebuilding Beyrut</td>\n",
       "      <td>drawings and watercolors</td>\n",
       "      <td>2002.0</td>\n",
       "      <td>1999.0</td>\n",
       "      <td>mixed media on paper</td>\n",
       "      <td>7.438</td>\n",
       "      <td>5.125</td>\n",
       "      <td>0.00</td>\n",
       "      <td>1963.0</td>\n",
       "      <td>German</td>\n",
       "    </tr>\n",
       "    <tr>\n",
       "      <th>4</th>\n",
       "      <td>Trans East West (Tew) No. 7: Bombing the Power...</td>\n",
       "      <td>drawings and watercolors</td>\n",
       "      <td>2002.0</td>\n",
       "      <td>1999.0</td>\n",
       "      <td>mixed media on paper</td>\n",
       "      <td>7.500</td>\n",
       "      <td>5.125</td>\n",
       "      <td>0.00</td>\n",
       "      <td>1963.0</td>\n",
       "      <td>German</td>\n",
       "    </tr>\n",
       "  </tbody>\n",
       "</table>\n",
       "</div>"
      ],
      "text/plain": [
       "                                               title  \\\n",
       "0                                       Keith Haring   \n",
       "1                                           Untitled   \n",
       "2  Trans East West (Tew) No. 5: The Attack of the...   \n",
       "3     Trans East West (Tew) No. 6: Rebuilding Beyrut   \n",
       "4  Trans East West (Tew) No. 7: Bombing the Power...   \n",
       "\n",
       "             classification  date_acquired  creation_date  \\\n",
       "0               photographs         2002.0         1984.0   \n",
       "1                 paintings         2002.0         1964.0   \n",
       "2  drawings and watercolors         2002.0         1999.0   \n",
       "3  drawings and watercolors         2002.0         1999.0   \n",
       "4  drawings and watercolors         2002.0         1999.0   \n",
       "\n",
       "                 medium  item_width  item_height  item_depth  birth_date  \\\n",
       "0  gelatin silver print      23.250       29.250        1.25      1947.0   \n",
       "1         oil on canvas      60.500       48.250        2.25      1929.0   \n",
       "2  mixed media on paper       7.500        5.125        0.00      1963.0   \n",
       "3  mixed media on paper       7.438        5.125        0.00      1963.0   \n",
       "4  mixed media on paper       7.500        5.125        0.00      1963.0   \n",
       "\n",
       "  nationality  \n",
       "0    American  \n",
       "1    American  \n",
       "2      German  \n",
       "3      German  \n",
       "4      German  "
      ]
     },
     "execution_count": 25,
     "metadata": {},
     "output_type": "execute_result"
    }
   ],
   "source": [
    "df.head()"
   ]
  },
  {
   "cell_type": "code",
   "execution_count": 26,
   "id": "22336bb8",
   "metadata": {},
   "outputs": [
    {
     "name": "stdout",
     "output_type": "stream",
     "text": [
      "<class 'pandas.core.frame.DataFrame'>\n",
      "RangeIndex: 28269 entries, 0 to 28268\n",
      "Data columns (total 10 columns):\n",
      " #   Column          Non-Null Count  Dtype  \n",
      "---  ------          --------------  -----  \n",
      " 0   title           28154 non-null  object \n",
      " 1   classification  28267 non-null  object \n",
      " 2   date_acquired   27852 non-null  float64\n",
      " 3   creation_date   25535 non-null  float64\n",
      " 4   medium          28131 non-null  object \n",
      " 5   item_width      28269 non-null  float64\n",
      " 6   item_height     28269 non-null  float64\n",
      " 7   item_depth      28269 non-null  float64\n",
      " 8   birth_date      22316 non-null  float64\n",
      " 9   nationality     28227 non-null  object \n",
      "dtypes: float64(6), object(4)\n",
      "memory usage: 2.2+ MB\n"
     ]
    }
   ],
   "source": [
    "df.info()"
   ]
  },
  {
   "cell_type": "code",
   "execution_count": 27,
   "id": "5dcc3d76",
   "metadata": {},
   "outputs": [
    {
     "data": {
      "text/html": [
       "<div>\n",
       "<style scoped>\n",
       "    .dataframe tbody tr th:only-of-type {\n",
       "        vertical-align: middle;\n",
       "    }\n",
       "\n",
       "    .dataframe tbody tr th {\n",
       "        vertical-align: top;\n",
       "    }\n",
       "\n",
       "    .dataframe thead th {\n",
       "        text-align: right;\n",
       "    }\n",
       "</style>\n",
       "<table border=\"1\" class=\"dataframe\">\n",
       "  <thead>\n",
       "    <tr style=\"text-align: right;\">\n",
       "      <th></th>\n",
       "      <th>title</th>\n",
       "      <th>classification</th>\n",
       "      <th>date_acquired</th>\n",
       "      <th>creation_date</th>\n",
       "      <th>medium</th>\n",
       "      <th>item_width</th>\n",
       "      <th>item_height</th>\n",
       "      <th>item_depth</th>\n",
       "      <th>birth_date</th>\n",
       "      <th>nationality</th>\n",
       "    </tr>\n",
       "  </thead>\n",
       "  <tbody>\n",
       "    <tr>\n",
       "      <th>count</th>\n",
       "      <td>28154</td>\n",
       "      <td>28267</td>\n",
       "      <td>27852.000000</td>\n",
       "      <td>25535.000000</td>\n",
       "      <td>28131</td>\n",
       "      <td>28269.000000</td>\n",
       "      <td>28269.000000</td>\n",
       "      <td>28269.000000</td>\n",
       "      <td>22316.000000</td>\n",
       "      <td>28227</td>\n",
       "    </tr>\n",
       "    <tr>\n",
       "      <th>unique</th>\n",
       "      <td>20033</td>\n",
       "      <td>42</td>\n",
       "      <td>NaN</td>\n",
       "      <td>NaN</td>\n",
       "      <td>5001</td>\n",
       "      <td>NaN</td>\n",
       "      <td>NaN</td>\n",
       "      <td>NaN</td>\n",
       "      <td>NaN</td>\n",
       "      <td>136</td>\n",
       "    </tr>\n",
       "    <tr>\n",
       "      <th>top</th>\n",
       "      <td>Untitled</td>\n",
       "      <td>prints</td>\n",
       "      <td>NaN</td>\n",
       "      <td>NaN</td>\n",
       "      <td>gelatin silver print</td>\n",
       "      <td>NaN</td>\n",
       "      <td>NaN</td>\n",
       "      <td>NaN</td>\n",
       "      <td>NaN</td>\n",
       "      <td>American</td>\n",
       "    </tr>\n",
       "    <tr>\n",
       "      <th>freq</th>\n",
       "      <td>450</td>\n",
       "      <td>8907</td>\n",
       "      <td>NaN</td>\n",
       "      <td>NaN</td>\n",
       "      <td>3492</td>\n",
       "      <td>NaN</td>\n",
       "      <td>NaN</td>\n",
       "      <td>NaN</td>\n",
       "      <td>NaN</td>\n",
       "      <td>14865</td>\n",
       "    </tr>\n",
       "    <tr>\n",
       "      <th>mean</th>\n",
       "      <td>NaN</td>\n",
       "      <td>NaN</td>\n",
       "      <td>1981.037053</td>\n",
       "      <td>1904.296534</td>\n",
       "      <td>NaN</td>\n",
       "      <td>16.469858</td>\n",
       "      <td>16.580439</td>\n",
       "      <td>1.471958</td>\n",
       "      <td>1866.226743</td>\n",
       "      <td>NaN</td>\n",
       "    </tr>\n",
       "    <tr>\n",
       "      <th>std</th>\n",
       "      <td>NaN</td>\n",
       "      <td>NaN</td>\n",
       "      <td>22.759706</td>\n",
       "      <td>93.162605</td>\n",
       "      <td>NaN</td>\n",
       "      <td>21.146298</td>\n",
       "      <td>59.342263</td>\n",
       "      <td>6.405482</td>\n",
       "      <td>89.034052</td>\n",
       "      <td>NaN</td>\n",
       "    </tr>\n",
       "    <tr>\n",
       "      <th>min</th>\n",
       "      <td>NaN</td>\n",
       "      <td>NaN</td>\n",
       "      <td>1896.000000</td>\n",
       "      <td>1000.000000</td>\n",
       "      <td>NaN</td>\n",
       "      <td>0.000000</td>\n",
       "      <td>0.000000</td>\n",
       "      <td>0.000000</td>\n",
       "      <td>1200.000000</td>\n",
       "      <td>NaN</td>\n",
       "    </tr>\n",
       "    <tr>\n",
       "      <th>25%</th>\n",
       "      <td>NaN</td>\n",
       "      <td>NaN</td>\n",
       "      <td>1974.000000</td>\n",
       "      <td>1875.000000</td>\n",
       "      <td>NaN</td>\n",
       "      <td>6.812000</td>\n",
       "      <td>7.250000</td>\n",
       "      <td>0.000000</td>\n",
       "      <td>1839.000000</td>\n",
       "      <td>NaN</td>\n",
       "    </tr>\n",
       "    <tr>\n",
       "      <th>50%</th>\n",
       "      <td>NaN</td>\n",
       "      <td>NaN</td>\n",
       "      <td>1985.000000</td>\n",
       "      <td>1931.000000</td>\n",
       "      <td>NaN</td>\n",
       "      <td>13.438000</td>\n",
       "      <td>13.500000</td>\n",
       "      <td>0.000000</td>\n",
       "      <td>1892.000000</td>\n",
       "      <td>NaN</td>\n",
       "    </tr>\n",
       "    <tr>\n",
       "      <th>75%</th>\n",
       "      <td>NaN</td>\n",
       "      <td>NaN</td>\n",
       "      <td>1994.000000</td>\n",
       "      <td>1965.000000</td>\n",
       "      <td>NaN</td>\n",
       "      <td>21.250000</td>\n",
       "      <td>21.000000</td>\n",
       "      <td>0.375000</td>\n",
       "      <td>1920.000000</td>\n",
       "      <td>NaN</td>\n",
       "    </tr>\n",
       "    <tr>\n",
       "      <th>max</th>\n",
       "      <td>NaN</td>\n",
       "      <td>NaN</td>\n",
       "      <td>2016.000000</td>\n",
       "      <td>2016.000000</td>\n",
       "      <td>NaN</td>\n",
       "      <td>1296.000000</td>\n",
       "      <td>9600.000000</td>\n",
       "      <td>426.000000</td>\n",
       "      <td>2016.000000</td>\n",
       "      <td>NaN</td>\n",
       "    </tr>\n",
       "  </tbody>\n",
       "</table>\n",
       "</div>"
      ],
      "text/plain": [
       "           title classification  date_acquired  creation_date  \\\n",
       "count      28154          28267   27852.000000   25535.000000   \n",
       "unique     20033             42            NaN            NaN   \n",
       "top     Untitled         prints            NaN            NaN   \n",
       "freq         450           8907            NaN            NaN   \n",
       "mean         NaN            NaN    1981.037053    1904.296534   \n",
       "std          NaN            NaN      22.759706      93.162605   \n",
       "min          NaN            NaN    1896.000000    1000.000000   \n",
       "25%          NaN            NaN    1974.000000    1875.000000   \n",
       "50%          NaN            NaN    1985.000000    1931.000000   \n",
       "75%          NaN            NaN    1994.000000    1965.000000   \n",
       "max          NaN            NaN    2016.000000    2016.000000   \n",
       "\n",
       "                      medium    item_width   item_height    item_depth  \\\n",
       "count                  28131  28269.000000  28269.000000  28269.000000   \n",
       "unique                  5001           NaN           NaN           NaN   \n",
       "top     gelatin silver print           NaN           NaN           NaN   \n",
       "freq                    3492           NaN           NaN           NaN   \n",
       "mean                     NaN     16.469858     16.580439      1.471958   \n",
       "std                      NaN     21.146298     59.342263      6.405482   \n",
       "min                      NaN      0.000000      0.000000      0.000000   \n",
       "25%                      NaN      6.812000      7.250000      0.000000   \n",
       "50%                      NaN     13.438000     13.500000      0.000000   \n",
       "75%                      NaN     21.250000     21.000000      0.375000   \n",
       "max                      NaN   1296.000000   9600.000000    426.000000   \n",
       "\n",
       "          birth_date nationality  \n",
       "count   22316.000000       28227  \n",
       "unique           NaN         136  \n",
       "top              NaN    American  \n",
       "freq             NaN       14865  \n",
       "mean     1866.226743         NaN  \n",
       "std        89.034052         NaN  \n",
       "min      1200.000000         NaN  \n",
       "25%      1839.000000         NaN  \n",
       "50%      1892.000000         NaN  \n",
       "75%      1920.000000         NaN  \n",
       "max      2016.000000         NaN  "
      ]
     },
     "execution_count": 27,
     "metadata": {},
     "output_type": "execute_result"
    }
   ],
   "source": [
    "df.describe(include='all')"
   ]
  },
  {
   "cell_type": "markdown",
   "id": "2f2d7796",
   "metadata": {},
   "source": [
    "## Добавление своих признаков"
   ]
  },
  {
   "cell_type": "markdown",
   "id": "8ec957fe",
   "metadata": {},
   "source": [
    "Было решено добавить 2 новых признака: площадь 2D работы, возраст, в котором было создано произведение"
   ]
  },
  {
   "cell_type": "code",
   "execution_count": 28,
   "id": "e4b2fa05",
   "metadata": {},
   "outputs": [],
   "source": [
    "mask = df['item_depth'] == 0\n",
    "\n",
    "df['square'] = df[mask]['item_width'] * df[mask]['item_height']\n",
    "df['square'].replace(0, np.nan, inplace=True)"
   ]
  },
  {
   "cell_type": "markdown",
   "id": "9e464f31",
   "metadata": {},
   "source": [
    "# 2. Описательные статистики"
   ]
  },
  {
   "cell_type": "markdown",
   "id": "856c56d2",
   "metadata": {},
   "source": [
    "## Для начала посмотрим на распределение работ по различным годам"
   ]
  },
  {
   "cell_type": "code",
   "execution_count": 29,
   "id": "5ea910aa",
   "metadata": {},
   "outputs": [
    {
     "data": {
      "image/png": "[encoded data removed]",
      "text/plain": [
       "<Figure size 800x550 with 1 Axes>"
      ]
     },
     "metadata": {},
     "output_type": "display_data"
    }
   ],
   "source": [
    "plt.style.use('seaborn')\n",
    "\n",
    "df['date_acquired'].hist()\n",
    "plt.xlabel('Год поступления работы')\n",
    "plt.ylabel('Количество работ')\n",
    "plt.title('Количество поступивших работ по годам');"
   ]
  },
  {
   "cell_type": "markdown",
   "id": "164233a0",
   "metadata": {},
   "source": [
    "По графику видим, что наибольшее количество работ поступило в музей в __1980-1990 гг.__"
   ]
  },
  {
   "cell_type": "code",
   "execution_count": 30,
   "id": "5e6b66b9",
   "metadata": {},
   "outputs": [
    {
     "data": {
      "image/png": "[encoded data removed]",
      "text/plain": [
       "<Figure size 800x550 with 1 Axes>"
      ]
     },
     "metadata": {},
     "output_type": "display_data"
    }
   ],
   "source": [
    "df['creation_date'].hist()\n",
    "plt.xlabel('Год создания работы')\n",
    "plt.ylabel('Количество работ')\n",
    "plt.title('Количество созданных работ по годам');"
   ]
  },
  {
   "cell_type": "markdown",
   "id": "8bd33476",
   "metadata": {},
   "source": [
    "По графику видно, что у музея отрицательная зависимость между количеством работ и их возрастом: в музее большее количество более новых объектов"
   ]
  },
  {
   "cell_type": "code",
   "execution_count": 31,
   "id": "da2e7879",
   "metadata": {},
   "outputs": [
    {
     "data": {
      "image/png": "[encoded data removed]",
      "text/plain": [
       "<Figure size 1000x500 with 2 Axes>"
      ]
     },
     "metadata": {},
     "output_type": "display_data"
    }
   ],
   "source": [
    "fig, axes = plt.subplots(1, 2, figsize=(10, 5), sharey=True)\n",
    "\n",
    "sns.boxplot(list(df['birth_date']), ax=axes[0])\n",
    "\n",
    "sns.boxplot(list(df['creation_date']), ax=axes[1])\n",
    "\n",
    "axes[0].set_xlabel('Год рождения')\n",
    "axes[1].set_xlabel('Год создания работы')\n",
    "\n",
    "plt.suptitle('Ящики с усами')\n",
    "\n",
    "plt.tight_layout()\n",
    "plt.show()"
   ]
  },
  {
   "cell_type": "code",
   "execution_count": 32,
   "id": "8e0e845d",
   "metadata": {},
   "outputs": [
    {
     "name": "stdout",
     "output_type": "stream",
     "text": [
      "Медиана года рождения автора 1892.0\n",
      "Медиана года создания работы 1931.0\n",
      "Разница 39.0 \n",
      "\n",
      "Средний год рождения автора 1866.2267431439327\n",
      "Средний год создания работы 1904.296534168788\n"
     ]
    }
   ],
   "source": [
    "median_birth = df[\"birth_date\"].median()\n",
    "median_creation = df[\"creation_date\"].median()\n",
    "\n",
    "av_birth = df[\"birth_date\"].mean()\n",
    "av_creation = df[\"creation_date\"].mean()\n",
    "\n",
    "print('Медиана года рождения автора', median_birth)\n",
    "print('Медиана года создания работы', median_creation)\n",
    "print('Разница', median_creation - median_birth, '\\n')\n",
    "\n",
    "print('Средний год рождения автора', av_birth)\n",
    "print('Средний год создания работы', av_creation)"
   ]
  },
  {
   "cell_type": "markdown",
   "id": "d7c16fa9",
   "metadata": {},
   "source": [
    "По графикам видно, что для переменных года рождения и года создания работы характерны выбросы снизу. Это подтверждают и вычисления: средний год меньше медианного года. \n",
    "\n",
    "По графикам также видно, что медиана (квантиль 0,5) года создания выше, чем медиана года рождения на 39 лет. Можно сказать, что медианный возраст, в котором авторы выполняют работу составляет 39 лет."
   ]
  },
  {
   "cell_type": "markdown",
   "id": "1402837c",
   "metadata": {},
   "source": [
    "## Самая большая работа"
   ]
  },
  {
   "cell_type": "code",
   "execution_count": 33,
   "id": "bcda9e2c",
   "metadata": {},
   "outputs": [
    {
     "data": {
      "text/html": [
       "<div>\n",
       "<style scoped>\n",
       "    .dataframe tbody tr th:only-of-type {\n",
       "        vertical-align: middle;\n",
       "    }\n",
       "\n",
       "    .dataframe tbody tr th {\n",
       "        vertical-align: top;\n",
       "    }\n",
       "\n",
       "    .dataframe thead th {\n",
       "        text-align: right;\n",
       "    }\n",
       "</style>\n",
       "<table border=\"1\" class=\"dataframe\">\n",
       "  <thead>\n",
       "    <tr style=\"text-align: right;\">\n",
       "      <th></th>\n",
       "      <th>title</th>\n",
       "      <th>classification</th>\n",
       "      <th>date_acquired</th>\n",
       "      <th>creation_date</th>\n",
       "      <th>medium</th>\n",
       "      <th>item_width</th>\n",
       "      <th>item_height</th>\n",
       "      <th>item_depth</th>\n",
       "      <th>birth_date</th>\n",
       "      <th>nationality</th>\n",
       "      <th>square</th>\n",
       "    </tr>\n",
       "  </thead>\n",
       "  <tbody>\n",
       "    <tr>\n",
       "      <th>20357</th>\n",
       "      <td>Wall Drawing #450, A wall is divided verticall...</td>\n",
       "      <td>drawings and watercolors</td>\n",
       "      <td>1985.0</td>\n",
       "      <td>1985.0</td>\n",
       "      <td>Lascaux acrylic wash</td>\n",
       "      <td>864.0</td>\n",
       "      <td>354.00</td>\n",
       "      <td>0.0</td>\n",
       "      <td>1928.0</td>\n",
       "      <td>American</td>\n",
       "      <td>305856.0</td>\n",
       "    </tr>\n",
       "    <tr>\n",
       "      <th>1257</th>\n",
       "      <td>Magma Spirit Explodes. Tsunami is Dreadful.</td>\n",
       "      <td>installations</td>\n",
       "      <td>2006.0</td>\n",
       "      <td>2004.0</td>\n",
       "      <td>CD</td>\n",
       "      <td>1296.0</td>\n",
       "      <td>192.00</td>\n",
       "      <td>0.0</td>\n",
       "      <td>1974.0</td>\n",
       "      <td>Japanese</td>\n",
       "      <td>248832.0</td>\n",
       "    </tr>\n",
       "    <tr>\n",
       "      <th>19369</th>\n",
       "      <td>Pittsburgh Variations</td>\n",
       "      <td>sculpture</td>\n",
       "      <td>1984.0</td>\n",
       "      <td>1984.0</td>\n",
       "      <td>painted aluminum</td>\n",
       "      <td>480.0</td>\n",
       "      <td>360.00</td>\n",
       "      <td>0.0</td>\n",
       "      <td>1912.0</td>\n",
       "      <td>American</td>\n",
       "      <td>172800.0</td>\n",
       "    </tr>\n",
       "    <tr>\n",
       "      <th>12755</th>\n",
       "      <td>Forbes Avenue</td>\n",
       "      <td>drawings and watercolors</td>\n",
       "      <td>1970.0</td>\n",
       "      <td>1970.0</td>\n",
       "      <td>charcoal on paper</td>\n",
       "      <td>358.0</td>\n",
       "      <td>451.25</td>\n",
       "      <td>0.0</td>\n",
       "      <td>1946.0</td>\n",
       "      <td>American</td>\n",
       "      <td>161547.5</td>\n",
       "    </tr>\n",
       "    <tr>\n",
       "      <th>19371</th>\n",
       "      <td>Piazza Lavoro</td>\n",
       "      <td>sculpture</td>\n",
       "      <td>1984.0</td>\n",
       "      <td>1984.0</td>\n",
       "      <td>cast concrete, mosaic and terrazzo</td>\n",
       "      <td>600.0</td>\n",
       "      <td>264.00</td>\n",
       "      <td>0.0</td>\n",
       "      <td>1948.0</td>\n",
       "      <td>American</td>\n",
       "      <td>158400.0</td>\n",
       "    </tr>\n",
       "  </tbody>\n",
       "</table>\n",
       "</div>"
      ],
      "text/plain": [
       "                                                   title  \\\n",
       "20357  Wall Drawing #450, A wall is divided verticall...   \n",
       "1257         Magma Spirit Explodes. Tsunami is Dreadful.   \n",
       "19369                              Pittsburgh Variations   \n",
       "12755                                      Forbes Avenue   \n",
       "19371                                      Piazza Lavoro   \n",
       "\n",
       "                 classification  date_acquired  creation_date  \\\n",
       "20357  drawings and watercolors         1985.0         1985.0   \n",
       "1257              installations         2006.0         2004.0   \n",
       "19369                 sculpture         1984.0         1984.0   \n",
       "12755  drawings and watercolors         1970.0         1970.0   \n",
       "19371                 sculpture         1984.0         1984.0   \n",
       "\n",
       "                                   medium  item_width  item_height  \\\n",
       "20357                Lascaux acrylic wash       864.0       354.00   \n",
       "1257                                   CD      1296.0       192.00   \n",
       "19369                    painted aluminum       480.0       360.00   \n",
       "12755                   charcoal on paper       358.0       451.25   \n",
       "19371  cast concrete, mosaic and terrazzo       600.0       264.00   \n",
       "\n",
       "       item_depth  birth_date nationality    square  \n",
       "20357         0.0      1928.0    American  305856.0  \n",
       "1257          0.0      1974.0    Japanese  248832.0  \n",
       "19369         0.0      1912.0    American  172800.0  \n",
       "12755         0.0      1946.0    American  161547.5  \n",
       "19371         0.0      1948.0    American  158400.0  "
      ]
     },
     "execution_count": 33,
     "metadata": {},
     "output_type": "execute_result"
    }
   ],
   "source": [
    "mask = df['square'].sort_values(ascending=False)[:5].index\n",
    "df.loc[mask]"
   ]
  },
  {
   "cell_type": "markdown",
   "id": "a3e1e4ac",
   "metadata": {},
   "source": [
    "К сожалению, датасет даже после обработки содержит некоторые неточности, например, объемные фигуры, такие как скульптуры не имеют размерность __item_depth__, поэтому придется в ручном формате отбирать данные"
   ]
  },
  {
   "cell_type": "code",
   "execution_count": 34,
   "id": "d348a0ee",
   "metadata": {},
   "outputs": [
    {
     "data": {
      "text/html": [
       "<div>\n",
       "<style scoped>\n",
       "    .dataframe tbody tr th:only-of-type {\n",
       "        vertical-align: middle;\n",
       "    }\n",
       "\n",
       "    .dataframe tbody tr th {\n",
       "        vertical-align: top;\n",
       "    }\n",
       "\n",
       "    .dataframe thead th {\n",
       "        text-align: right;\n",
       "    }\n",
       "</style>\n",
       "<table border=\"1\" class=\"dataframe\">\n",
       "  <thead>\n",
       "    <tr style=\"text-align: right;\">\n",
       "      <th></th>\n",
       "      <th>title</th>\n",
       "      <th>classification</th>\n",
       "      <th>date_acquired</th>\n",
       "      <th>creation_date</th>\n",
       "      <th>medium</th>\n",
       "      <th>item_width</th>\n",
       "      <th>item_height</th>\n",
       "      <th>item_depth</th>\n",
       "      <th>birth_date</th>\n",
       "      <th>nationality</th>\n",
       "      <th>square</th>\n",
       "    </tr>\n",
       "  </thead>\n",
       "  <tbody>\n",
       "    <tr>\n",
       "      <th>20357</th>\n",
       "      <td>Wall Drawing #450, A wall is divided verticall...</td>\n",
       "      <td>drawings and watercolors</td>\n",
       "      <td>1985.0</td>\n",
       "      <td>1985.0</td>\n",
       "      <td>Lascaux acrylic wash</td>\n",
       "      <td>864.0</td>\n",
       "      <td>354.00</td>\n",
       "      <td>0.0</td>\n",
       "      <td>1928.0</td>\n",
       "      <td>American</td>\n",
       "      <td>305856.0</td>\n",
       "    </tr>\n",
       "    <tr>\n",
       "      <th>1257</th>\n",
       "      <td>Magma Spirit Explodes. Tsunami is Dreadful.</td>\n",
       "      <td>installations</td>\n",
       "      <td>2006.0</td>\n",
       "      <td>2004.0</td>\n",
       "      <td>CD</td>\n",
       "      <td>1296.0</td>\n",
       "      <td>192.00</td>\n",
       "      <td>0.0</td>\n",
       "      <td>1974.0</td>\n",
       "      <td>Japanese</td>\n",
       "      <td>248832.0</td>\n",
       "    </tr>\n",
       "    <tr>\n",
       "      <th>12755</th>\n",
       "      <td>Forbes Avenue</td>\n",
       "      <td>drawings and watercolors</td>\n",
       "      <td>1970.0</td>\n",
       "      <td>1970.0</td>\n",
       "      <td>charcoal on paper</td>\n",
       "      <td>358.0</td>\n",
       "      <td>451.25</td>\n",
       "      <td>0.0</td>\n",
       "      <td>1946.0</td>\n",
       "      <td>American</td>\n",
       "      <td>161547.5</td>\n",
       "    </tr>\n",
       "  </tbody>\n",
       "</table>\n",
       "</div>"
      ],
      "text/plain": [
       "                                                   title  \\\n",
       "20357  Wall Drawing #450, A wall is divided verticall...   \n",
       "1257         Magma Spirit Explodes. Tsunami is Dreadful.   \n",
       "12755                                      Forbes Avenue   \n",
       "\n",
       "                 classification  date_acquired  creation_date  \\\n",
       "20357  drawings and watercolors         1985.0         1985.0   \n",
       "1257              installations         2006.0         2004.0   \n",
       "12755  drawings and watercolors         1970.0         1970.0   \n",
       "\n",
       "                     medium  item_width  item_height  item_depth  birth_date  \\\n",
       "20357  Lascaux acrylic wash       864.0       354.00         0.0      1928.0   \n",
       "1257                     CD      1296.0       192.00         0.0      1974.0   \n",
       "12755     charcoal on paper       358.0       451.25         0.0      1946.0   \n",
       "\n",
       "      nationality    square  \n",
       "20357    American  305856.0  \n",
       "1257     Japanese  248832.0  \n",
       "12755    American  161547.5  "
      ]
     },
     "execution_count": 34,
     "metadata": {},
     "output_type": "execute_result"
    }
   ],
   "source": [
    "biggest = [20357, 1257, 12755]\n",
    "df.loc[biggest]"
   ]
  },
  {
   "cell_type": "code",
   "execution_count": 35,
   "id": "d93220d7",
   "metadata": {},
   "outputs": [
    {
     "name": "stdout",
     "output_type": "stream",
     "text": [
      "\u001b[1mСамые большие 2D - работы:\u001b[0m \n",
      "\n",
      "1. Wall Drawing #450, A wall is divided vertically into four equal parts.  All one-, two-, three-, and four-part combinations of four colors\n",
      "2. Magma Spirit Explodes. Tsunami is Dreadful.\n",
      "3. Forbes Avenue\n"
     ]
    }
   ],
   "source": [
    "print('\\033[1m' + 'Самые большие 2D - работы:' + '\\033[0m', '\\n')\n",
    "\n",
    "biggest = list(df.loc[biggest]['title'])\n",
    "for i in range(len(biggest)):\n",
    "    print(f'{i+1}. {biggest[i]}')"
   ]
  },
  {
   "cell_type": "markdown",
   "id": "649707bf",
   "metadata": {},
   "source": [
    "Ниже представлена самая большая работа"
   ]
  },
  {
   "cell_type": "markdown",
   "id": "83b5c0dc",
   "metadata": {},
   "source": [
    "![Wall Drawing #450](https://cmoa-collection-images.s3.amazonaws.com/thing/56525/sizes/1025704-1026077-03-e-1680.jpg)"
   ]
  },
  {
   "cell_type": "code",
   "execution_count": 36,
   "id": "6ece69b9",
   "metadata": {},
   "outputs": [
    {
     "data": {
      "text/html": [
       "<div>\n",
       "<style scoped>\n",
       "    .dataframe tbody tr th:only-of-type {\n",
       "        vertical-align: middle;\n",
       "    }\n",
       "\n",
       "    .dataframe tbody tr th {\n",
       "        vertical-align: top;\n",
       "    }\n",
       "\n",
       "    .dataframe thead th {\n",
       "        text-align: right;\n",
       "    }\n",
       "</style>\n",
       "<table border=\"1\" class=\"dataframe\">\n",
       "  <thead>\n",
       "    <tr style=\"text-align: right;\">\n",
       "      <th></th>\n",
       "      <th>title</th>\n",
       "      <th>classification</th>\n",
       "      <th>date_acquired</th>\n",
       "      <th>creation_date</th>\n",
       "      <th>medium</th>\n",
       "      <th>item_width</th>\n",
       "      <th>item_height</th>\n",
       "      <th>item_depth</th>\n",
       "      <th>birth_date</th>\n",
       "      <th>nationality</th>\n",
       "      <th>square</th>\n",
       "    </tr>\n",
       "  </thead>\n",
       "  <tbody>\n",
       "    <tr>\n",
       "      <th>0</th>\n",
       "      <td>Keith Haring</td>\n",
       "      <td>photographs</td>\n",
       "      <td>2002.0</td>\n",
       "      <td>1984.0</td>\n",
       "      <td>gelatin silver print</td>\n",
       "      <td>23.250</td>\n",
       "      <td>29.250</td>\n",
       "      <td>1.25</td>\n",
       "      <td>1947.0</td>\n",
       "      <td>American</td>\n",
       "      <td>NaN</td>\n",
       "    </tr>\n",
       "    <tr>\n",
       "      <th>1</th>\n",
       "      <td>Untitled</td>\n",
       "      <td>paintings</td>\n",
       "      <td>2002.0</td>\n",
       "      <td>1964.0</td>\n",
       "      <td>oil on canvas</td>\n",
       "      <td>60.500</td>\n",
       "      <td>48.250</td>\n",
       "      <td>2.25</td>\n",
       "      <td>1929.0</td>\n",
       "      <td>American</td>\n",
       "      <td>NaN</td>\n",
       "    </tr>\n",
       "    <tr>\n",
       "      <th>2</th>\n",
       "      <td>Trans East West (Tew) No. 5: The Attack of the...</td>\n",
       "      <td>drawings and watercolors</td>\n",
       "      <td>2002.0</td>\n",
       "      <td>1999.0</td>\n",
       "      <td>mixed media on paper</td>\n",
       "      <td>7.500</td>\n",
       "      <td>5.125</td>\n",
       "      <td>0.00</td>\n",
       "      <td>1963.0</td>\n",
       "      <td>German</td>\n",
       "      <td>38.43750</td>\n",
       "    </tr>\n",
       "    <tr>\n",
       "      <th>3</th>\n",
       "      <td>Trans East West (Tew) No. 6: Rebuilding Beyrut</td>\n",
       "      <td>drawings and watercolors</td>\n",
       "      <td>2002.0</td>\n",
       "      <td>1999.0</td>\n",
       "      <td>mixed media on paper</td>\n",
       "      <td>7.438</td>\n",
       "      <td>5.125</td>\n",
       "      <td>0.00</td>\n",
       "      <td>1963.0</td>\n",
       "      <td>German</td>\n",
       "      <td>38.11975</td>\n",
       "    </tr>\n",
       "    <tr>\n",
       "      <th>4</th>\n",
       "      <td>Trans East West (Tew) No. 7: Bombing the Power...</td>\n",
       "      <td>drawings and watercolors</td>\n",
       "      <td>2002.0</td>\n",
       "      <td>1999.0</td>\n",
       "      <td>mixed media on paper</td>\n",
       "      <td>7.500</td>\n",
       "      <td>5.125</td>\n",
       "      <td>0.00</td>\n",
       "      <td>1963.0</td>\n",
       "      <td>German</td>\n",
       "      <td>38.43750</td>\n",
       "    </tr>\n",
       "  </tbody>\n",
       "</table>\n",
       "</div>"
      ],
      "text/plain": [
       "                                               title  \\\n",
       "0                                       Keith Haring   \n",
       "1                                           Untitled   \n",
       "2  Trans East West (Tew) No. 5: The Attack of the...   \n",
       "3     Trans East West (Tew) No. 6: Rebuilding Beyrut   \n",
       "4  Trans East West (Tew) No. 7: Bombing the Power...   \n",
       "\n",
       "             classification  date_acquired  creation_date  \\\n",
       "0               photographs         2002.0         1984.0   \n",
       "1                 paintings         2002.0         1964.0   \n",
       "2  drawings and watercolors         2002.0         1999.0   \n",
       "3  drawings and watercolors         2002.0         1999.0   \n",
       "4  drawings and watercolors         2002.0         1999.0   \n",
       "\n",
       "                 medium  item_width  item_height  item_depth  birth_date  \\\n",
       "0  gelatin silver print      23.250       29.250        1.25      1947.0   \n",
       "1         oil on canvas      60.500       48.250        2.25      1929.0   \n",
       "2  mixed media on paper       7.500        5.125        0.00      1963.0   \n",
       "3  mixed media on paper       7.438        5.125        0.00      1963.0   \n",
       "4  mixed media on paper       7.500        5.125        0.00      1963.0   \n",
       "\n",
       "  nationality    square  \n",
       "0    American       NaN  \n",
       "1    American       NaN  \n",
       "2      German  38.43750  \n",
       "3      German  38.11975  \n",
       "4      German  38.43750  "
      ]
     },
     "execution_count": 36,
     "metadata": {},
     "output_type": "execute_result"
    }
   ],
   "source": [
    "df.head()"
   ]
  },
  {
   "cell_type": "markdown",
   "id": "2aca6909",
   "metadata": {},
   "source": [
    "## Распределение по странам авторов"
   ]
  },
  {
   "cell_type": "code",
   "execution_count": 37,
   "id": "10e56a59",
   "metadata": {},
   "outputs": [],
   "source": [
    "states = df[['title', 'nationality']].groupby(by='nationality').agg('count').reset_index()\n",
    "states.columns = ['nationality', 'count']\n",
    "states.sort_values(by='count', ascending=False, inplace=True)"
   ]
  },
  {
   "cell_type": "code",
   "execution_count": 38,
   "id": "454c2d15",
   "metadata": {},
   "outputs": [
    {
     "data": {
      "image/png": "[encoded data removed]",
      "text/plain": [
       "<Figure size 800x550 with 1 Axes>"
      ]
     },
     "metadata": {},
     "output_type": "display_data"
    }
   ],
   "source": [
    "plt.bar(x = states[:10]['nationality'], height=states[:10]['count'])\n",
    "plt.xlabel('Страны')\n",
    "plt.ylabel('Количество работ')\n",
    "plt.xticks(rotation = 25)\n",
    "plt.title('Количество работ по национальной принадлежности автора');"
   ]
  },
  {
   "cell_type": "code",
   "execution_count": 39,
   "id": "1dac4624",
   "metadata": {},
   "outputs": [
    {
     "data": {
      "text/html": [
       "<div>\n",
       "<style scoped>\n",
       "    .dataframe tbody tr th:only-of-type {\n",
       "        vertical-align: middle;\n",
       "    }\n",
       "\n",
       "    .dataframe tbody tr th {\n",
       "        vertical-align: top;\n",
       "    }\n",
       "\n",
       "    .dataframe thead th {\n",
       "        text-align: right;\n",
       "    }\n",
       "</style>\n",
       "<table border=\"1\" class=\"dataframe\">\n",
       "  <thead>\n",
       "    <tr style=\"text-align: right;\">\n",
       "      <th></th>\n",
       "      <th>nationality</th>\n",
       "      <th>count</th>\n",
       "    </tr>\n",
       "  </thead>\n",
       "  <tbody>\n",
       "    <tr>\n",
       "      <th>5</th>\n",
       "      <td>American</td>\n",
       "      <td>14774</td>\n",
       "    </tr>\n",
       "    <tr>\n",
       "      <th>69</th>\n",
       "      <td>Japanese</td>\n",
       "      <td>2803</td>\n",
       "    </tr>\n",
       "  </tbody>\n",
       "</table>\n",
       "</div>"
      ],
      "text/plain": [
       "   nationality  count\n",
       "5     American  14774\n",
       "69    Japanese   2803"
      ]
     },
     "execution_count": 39,
     "metadata": {},
     "output_type": "execute_result"
    }
   ],
   "source": [
    "states[:2]"
   ]
  },
  {
   "cell_type": "code",
   "execution_count": 40,
   "id": "3e3c39ea",
   "metadata": {},
   "outputs": [
    {
     "name": "stdout",
     "output_type": "stream",
     "text": [
      "Отрыв между топ-1 и топ-2: 11971\n"
     ]
    }
   ],
   "source": [
    "print('Отрыв между топ-1 и топ-2:', states.loc[5]['count'] - states.loc[69]['count'])"
   ]
  },
  {
   "cell_type": "markdown",
   "id": "055b349c",
   "metadata": {},
   "source": [
    "Для выполнения сделал сводную таблицу и посчитал количество работ по национальной принадлежности автора. На графике представлено топ 10 наиболее встречающихся стран. Самовое большое количество работ создано американцами, далее с отрывом 11971 работ идут японцы с количеством работ в размере 2803 штук."
   ]
  },
  {
   "cell_type": "markdown",
   "id": "ad7d5076",
   "metadata": {},
   "source": [
    "## Средний год создания работы "
   ]
  },
  {
   "cell_type": "code",
   "execution_count": 93,
   "id": "1a875f4b",
   "metadata": {},
   "outputs": [],
   "source": [
    "sv_tab = df[['classification', 'date_acquired']].groupby('classification').agg(['mean', 'median', 'std'])['date_acquired']"
   ]
  },
  {
   "cell_type": "code",
   "execution_count": 95,
   "id": "9a6a6948",
   "metadata": {},
   "outputs": [],
   "source": [
    "sv_tab.sort_values(by='mean', ascending=False, inplace=True)\n",
    "sv_tab.reset_index(inplace=True)"
   ]
  },
  {
   "cell_type": "code",
   "execution_count": 103,
   "id": "a8491586",
   "metadata": {},
   "outputs": [
    {
     "name": "stdout",
     "output_type": "stream",
     "text": [
      "В среднем работы категории architectural drawings были созданы в 2013. \n",
      "Это самый маленький средний год среди всех категорий\n",
      "Медиана для этой категории: 2014\n",
      "Стандартное отклонение: 4.887\n",
      "\n",
      "В среднем работы категории printing blocks были созданы в 1925. \n",
      "Это самый большой средний год среди всех категорий\n",
      "Медиана для этой категории: 1922\n",
      "Стандартное отклонение: 19.337\n"
     ]
    }
   ],
   "source": [
    "youngest_year = round(sv_tab.loc[0]['mean'])\n",
    "oldest_year = round(sv_tab.loc[av_year.shape[0]-2]['mean'])\n",
    "\n",
    "youngest_year_med = round(sv_tab.loc[0]['median'])\n",
    "oldest_year_med = round(sv_tab.loc[av_year.shape[0]-2]['median'])\n",
    "\n",
    "youngest_year_std = round(sv_tab.loc[0]['std'], 3)\n",
    "oldest_year_std = round(sv_tab.loc[av_year.shape[0]-2]['std'], 3)\n",
    "\n",
    "youngest = sv_tab.loc[0]['classification']\n",
    "oldest = sv_tab.loc[av_year.shape[0]-2]['classification']\n",
    "\n",
    "print('В среднем работы категории ', youngest, ' были созданы в ', youngest_year,\n",
    "      '. \\nЭто самый маленький средний год среди всех категорий', sep='')\n",
    "print(f'Медиана для этой категории: {youngest_year_med}\\nСтандартное отклонение: {youngest_year_std}\\n')\n",
    "\n",
    "print('В среднем работы категории ', oldest, ' были созданы в ', oldest_year, \n",
    "      '. \\nЭто самый большой средний год среди всех категорий', sep='')\n",
    "print(f'Медиана для этой категории: {oldest_year_med}\\nСтандартное отклонение: {oldest_year_std}')"
   ]
  },
  {
   "cell_type": "markdown",
   "id": "8109ead9",
   "metadata": {},
   "source": [
    "Как видно по полученным данным, самая молодая категория по среднему - __architectural drawings__, однако также наблюдается смещение вниз из-за выбросов.\n",
    "\n",
    "Самая возрастная категория - __printing blocks__, которая также смещена вниз"
   ]
  },
  {
   "cell_type": "code",
   "execution_count": 104,
   "id": "3290efa0",
   "metadata": {},
   "outputs": [
    {
     "data": {
      "text/html": [
       "<div>\n",
       "<style scoped>\n",
       "    .dataframe tbody tr th:only-of-type {\n",
       "        vertical-align: middle;\n",
       "    }\n",
       "\n",
       "    .dataframe tbody tr th {\n",
       "        vertical-align: top;\n",
       "    }\n",
       "\n",
       "    .dataframe thead th {\n",
       "        text-align: right;\n",
       "    }\n",
       "</style>\n",
       "<table border=\"1\" class=\"dataframe\">\n",
       "  <thead>\n",
       "    <tr style=\"text-align: right;\">\n",
       "      <th></th>\n",
       "      <th>classification</th>\n",
       "      <th>mean</th>\n",
       "      <th>median</th>\n",
       "      <th>std</th>\n",
       "    </tr>\n",
       "  </thead>\n",
       "  <tbody>\n",
       "    <tr>\n",
       "      <th>0</th>\n",
       "      <td>architectural drawings</td>\n",
       "      <td>2013.054054</td>\n",
       "      <td>2014.0</td>\n",
       "      <td>4.887479</td>\n",
       "    </tr>\n",
       "    <tr>\n",
       "      <th>1</th>\n",
       "      <td>vehicles (transportation)</td>\n",
       "      <td>2013.000000</td>\n",
       "      <td>2013.0</td>\n",
       "      <td>NaN</td>\n",
       "    </tr>\n",
       "    <tr>\n",
       "      <th>2</th>\n",
       "      <td>sound art</td>\n",
       "      <td>2012.000000</td>\n",
       "      <td>2012.0</td>\n",
       "      <td>NaN</td>\n",
       "    </tr>\n",
       "    <tr>\n",
       "      <th>3</th>\n",
       "      <td>installations</td>\n",
       "      <td>2006.852941</td>\n",
       "      <td>2009.5</td>\n",
       "      <td>8.195092</td>\n",
       "    </tr>\n",
       "    <tr>\n",
       "      <th>4</th>\n",
       "      <td>mixed media</td>\n",
       "      <td>2005.258065</td>\n",
       "      <td>2011.0</td>\n",
       "      <td>10.639448</td>\n",
       "    </tr>\n",
       "  </tbody>\n",
       "</table>\n",
       "</div>"
      ],
      "text/plain": [
       "              classification         mean  median        std\n",
       "0     architectural drawings  2013.054054  2014.0   4.887479\n",
       "1  vehicles (transportation)  2013.000000  2013.0        NaN\n",
       "2                  sound art  2012.000000  2012.0        NaN\n",
       "3              installations  2006.852941  2009.5   8.195092\n",
       "4                mixed media  2005.258065  2011.0  10.639448"
      ]
     },
     "execution_count": 104,
     "metadata": {},
     "output_type": "execute_result"
    }
   ],
   "source": [
    "sv_tab.head(5)"
   ]
  },
  {
   "cell_type": "markdown",
   "id": "c234dce6",
   "metadata": {},
   "source": [
    "## Часто встречающиеся категории"
   ]
  },
  {
   "cell_type": "code",
   "execution_count": 45,
   "id": "d3618899",
   "metadata": {},
   "outputs": [
    {
     "name": "stdout",
     "output_type": "stream",
     "text": [
      "Часто встречающейся категорией является: prints\n"
     ]
    }
   ],
   "source": [
    "freq = df['classification'].mode().values[0]\n",
    "\n",
    "print('Часто встречающейся категорией является:', freq)"
   ]
  },
  {
   "cell_type": "markdown",
   "id": "ecd08500",
   "metadata": {},
   "source": [
    "## Зависимость величины работы от года создания"
   ]
  },
  {
   "cell_type": "markdown",
   "id": "46885732",
   "metadata": {},
   "source": [
    "Для начала заменим все нули в колонках __item_width__, __item_height__, __item_depth__ на единицы, так как мы будем использовать объем работы. Нули в таком случае обнулят вычисляемое значение"
   ]
  },
  {
   "cell_type": "code",
   "execution_count": 46,
   "id": "535f433e",
   "metadata": {},
   "outputs": [],
   "source": [
    "df_shape = df[['item_width', 'item_height', 'item_depth']].replace(0, 1)\n",
    "df_shape['volume'] = df_shape['item_width'] * df_shape['item_height'] * df_shape['item_depth']\n",
    "df_shape['date_acquired'] = df['date_acquired']\n",
    "\n",
    "df_s = df_shape[['volume', 'date_acquired']]\n",
    "df_corr = df_s.corr()"
   ]
  },
  {
   "cell_type": "code",
   "execution_count": 47,
   "id": "9fc93e26",
   "metadata": {},
   "outputs": [
    {
     "data": {
      "text/html": [
       "<div>\n",
       "<style scoped>\n",
       "    .dataframe tbody tr th:only-of-type {\n",
       "        vertical-align: middle;\n",
       "    }\n",
       "\n",
       "    .dataframe tbody tr th {\n",
       "        vertical-align: top;\n",
       "    }\n",
       "\n",
       "    .dataframe thead th {\n",
       "        text-align: right;\n",
       "    }\n",
       "</style>\n",
       "<table border=\"1\" class=\"dataframe\">\n",
       "  <thead>\n",
       "    <tr style=\"text-align: right;\">\n",
       "      <th></th>\n",
       "      <th>volume</th>\n",
       "      <th>date_acquired</th>\n",
       "    </tr>\n",
       "  </thead>\n",
       "  <tbody>\n",
       "    <tr>\n",
       "      <th>volume</th>\n",
       "      <td>1.000000</td>\n",
       "      <td>0.003453</td>\n",
       "    </tr>\n",
       "    <tr>\n",
       "      <th>date_acquired</th>\n",
       "      <td>0.003453</td>\n",
       "      <td>1.000000</td>\n",
       "    </tr>\n",
       "  </tbody>\n",
       "</table>\n",
       "</div>"
      ],
      "text/plain": [
       "                 volume  date_acquired\n",
       "volume         1.000000       0.003453\n",
       "date_acquired  0.003453       1.000000"
      ]
     },
     "execution_count": 47,
     "metadata": {},
     "output_type": "execute_result"
    }
   ],
   "source": [
    "df_corr"
   ]
  },
  {
   "cell_type": "markdown",
   "id": "98f63eb0",
   "metadata": {},
   "source": [
    "Как мы видим из расчетов, между переменными годом создания и размером работы не наблюдается линейная взаимосвязь, так как показатель очень мал (0.003453).\n",
    "\n",
    "Посмотрим как это будет отображаться на диаграмма рассеяния. Чтобы график был более адекватный, уберем очень большие значения размера"
   ]
  },
  {
   "cell_type": "code",
   "execution_count": 48,
   "id": "bad53982",
   "metadata": {},
   "outputs": [],
   "source": [
    "df_scatter =  df_s.sort_values(by='volume', ascending = False)[30:]"
   ]
  },
  {
   "cell_type": "code",
   "execution_count": 49,
   "id": "d4106b6c",
   "metadata": {},
   "outputs": [
    {
     "data": {
      "image/png": "[encoded data removed]",
      "text/plain": [
       "<Figure size 800x550 with 1 Axes>"
      ]
     },
     "metadata": {},
     "output_type": "display_data"
    }
   ],
   "source": [
    "sns.scatterplot(df_scatter, x = 'volume', y = 'date_acquired')\n",
    "plt.xlabel('Размер')\n",
    "plt.ylabel('Год создания')\n",
    "plt.title('Зависимость между годом создания и размером работы');"
   ]
  }
 ],
 "metadata": {
  "kernelspec": {
   "display_name": "Python 3 (ipykernel)",
   "language": "python",
   "name": "python3"
  },
  "language_info": {
   "codemirror_mode": {
    "name": "ipython",
    "version": 3
   },
   "file_extension": ".py",
   "mimetype": "text/x-python",
   "name": "python",
   "nbconvert_exporter": "python",
   "pygments_lexer": "ipython3",
   "version": "3.9.12"
  }
 },
 "nbformat": 4,
 "nbformat_minor": 5
}
